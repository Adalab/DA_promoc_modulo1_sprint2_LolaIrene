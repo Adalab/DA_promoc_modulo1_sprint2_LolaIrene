{
 "cells": [
  {
   "cell_type": "markdown",
   "metadata": {},
   "source": [
    "Sigamos trabajando con SQL desde nuestro jupyter! En este caso crearemos una BBDD\n",
    "\n",
    "En el ejercicio de hoy vamos a crear una BBDD, pero esta vez desde Python.\n",
    "\n",
    "📌 NOTA Cambiad el nombre de la BBDD a mi_primerita_BBDD_Python \n",
    "\n",
    "📌 NOTA Cuando creeis las distintas tablas de vuestra BBDD repetereis la mismas lineas de código una y otra vez.\n",
    "\n",
    " Para evitar esto, crearos una función que nos sirva para crear tablas independientemente del contenido de la tabla.\n",
    "  La función recibirá como parámetros:\n",
    "\n",
    "- Contraseña de la conexión al servidor.\n",
    "- Query para crear la tabla.\n",
    "\n",
    "A modo de recap de lo que contenía la BBDD:\n",
    "\n",
    "- Tabla Zapatillas: tiene 4 columnas: id, modelo, color, talla con las siguientes características:\n",
    "\n",
    "    - idZapatillas: es una clave primaria de tipo int, autoincremental y no nula.\n",
    "\n",
    "    - Modelo: es una cadena de caracteres de longitud máxima de 45 caracteres, no nula.\n",
    "\n",
    "    - Color: es una cadena de caracteres de longitud máxima de 45 caracteres, no nula.\n",
    "\n",
    "    - Talla: es entero, no nula.\n",
    "\n",
    "- Tabla Clientes: tiene 9 columnas idcliente, nombre, numero_telefono, email, direccion, ciudad, provincia, pais, codigo_postal con las siguientes características:\n",
    "\n",
    "    - idEmpleado: es una clave primaria de tipo int, autoincremental y no nula.\n",
    "\n",
    "    - Nombre: es una cadena de caracteres de longitud máxima de 45 caracteres, no nula.\n",
    "\n",
    "    - Numero_telefono: es un entero de longitud máxima de 9 caracteres, no nula.\n",
    "\n",
    "    - Email: es una cadena de caracteres de longitud máxima de 45 caracteres, no nula.\n",
    "\n",
    "    - Direccion: es una cadena de caracteres de longitud máxima de 45 caracteres, no nula.\n",
    "\n",
    "    - Ciudad: es una cadena de caracteres de longitud máxima de 45 caracteres, puede ser nula.\n",
    "\n",
    "    - Provincia: es una cadena de caracteres de longitud máxima de 45 caracteres, no nula.\n",
    "\n",
    "    - Pais: es una cadena de caracteres de longitud máxima de 45 caracteres, no nula.\n",
    "\n",
    "    - Codigo_postal: entero de máxima longitud 9, no nula.\n",
    "\n",
    "\n",
    "\n",
    "- Tabla Empleados: tiene 5 columnas idEmpleado, nombre, tienda, salario, fecha_incorporacion con las siguientes características:\n",
    "\n",
    "    - idEmpleado: es una clave primaria de tipo int, autoincremental y no nula.\n",
    "\n",
    "    - Nombre: es una cadena de caracteres de longitud máxima de 45 caracteres, no nula.\n",
    "\n",
    "    - Tienda: es una cadena de caracteres de longitud máxima de 45 caracteres, no nula.\n",
    "\n",
    "    - salario: es decimal, puede ser nula.\n",
    "\n",
    "    - fecha_incorporacion: es una columna de tipo date, no nula.\n",
    "\n",
    "\n",
    "    \n",
    "\n",
    "\n",
    "- Tabla Facturas: tiene 5 columnas idFactura, idEmpleado, idCliente, fecha, total con las siguientes características:\n",
    "\n",
    "    - idFactura: es una clave primaria de tipo int, autoincremental y no nula.\n",
    "\n",
    "    - idEmpleado: es una clave foránea de tipo int, no nula.\n",
    "\n",
    "    - idCliente: es una clave foránea de tipo int, no nula.\n",
    "\n",
    "    - idZapatilla: es una clave foránea de tipo int, no nula.\n",
    "\n",
    "    - Fecha: es una columna de tipo date, no nula.\n",
    "\n",
    "    - Total: es decimal, no nula.\n",
    "    \n",
    "    \n",
    "    \n",
    "    \n",
    "📌 NOTA En esta última tabla tendremos que incluir todos los CONSTRAINT necesarios para establecer los relaciones entre las tablas, donde tendremos que especificar: Foreign Key References \n",
    "Happy coding 😀"
   ]
  },
  {
   "cell_type": "markdown",
   "metadata": {},
   "source": [
    "Crear tabla mi_primerita_base_de_datos"
   ]
  },
  {
   "cell_type": "code",
   "execution_count": 2,
   "metadata": {},
   "outputs": [
    {
     "name": "stdout",
     "output_type": "stream",
     "text": [
      "1007 (HY000): Can't create database 'mi_primerita_base_de_datos'; database exists\n",
      "Error Code: 1007\n",
      "SQLSTATE HY000\n",
      "Message Can't create database 'mi_primerita_base_de_datos'; database exists\n"
     ]
    }
   ],
   "source": [
    "import mysql.connector\n",
    "\n",
    "cnx = mysql.connector.connect(user='root', password='AlumnaAdalab',\n",
    "                              host='127.0.0.1', database='mi_primerita_base_de_datos')\n",
    "\n",
    "\n",
    "mycursor = cnx.cursor()\n",
    "sql = \"create schema mi_primerita_base_de_datos\"\n",
    "try:\n",
    "    mycursor.execute(sql)\n",
    "    #mycursor.commit()\n",
    "except mysql.connector.Error as err:\n",
    "    print(err)\n",
    "    print(\"Error Code:\", err.errno)\n",
    "    print(\"SQLSTATE\", err.sqlstate)\n",
    "    print(\"Message\", err.msg)\n",
    "\n",
    "mycursor.close()\n",
    "cnx.close() "
   ]
  },
  {
   "cell_type": "markdown",
   "metadata": {},
   "source": [
    "Crear una función para crear tablas independientemente del contenido de la tabla"
   ]
  },
  {
   "cell_type": "code",
   "execution_count": 19,
   "metadata": {},
   "outputs": [],
   "source": [
    "def crear_tablas(contraseña,query_tabla):\n",
    "    cnx = mysql.connector.connect(user = 'root', password = contraseña,\n",
    "                              host='127.0.0.1', database='mi_primerita_base_de_datos')\n",
    "\n",
    "\n",
    "    mycursor = cnx.cursor()\n",
    "    try:\n",
    "        mycursor.execute(query_tabla)\n",
    "   \n",
    "    except mysql.connector.Error as err:\n",
    "        print(err)\n",
    "        print(\"Error Code:\", err.errno)\n",
    "        print(\"SQLSTATE\", err.sqlstate)\n",
    "        print(\"Message\", err.msg)\n",
    "        \n",
    "    mycursor.close()\n",
    "    cnx.close() "
   ]
  },
  {
   "cell_type": "markdown",
   "metadata": {},
   "source": [
    "Consulta crear tabla zapatillas"
   ]
  },
  {
   "cell_type": "code",
   "execution_count": 21,
   "metadata": {},
   "outputs": [],
   "source": [
    "\n",
    "query_zapatillas =( \"\"\"CREATE TABLE zapatillas (\n",
    "\tid_zapatilla INT PRIMARY KEY AUTO_INCREMENT NOT NULL,\n",
    "    modelo VARCHAR(45) NOT NULL,\n",
    "    color VARCHAR(45) NOT NULL\n",
    "\t)\"\"\")\n",
    "    "
   ]
  },
  {
   "cell_type": "markdown",
   "metadata": {},
   "source": [
    "Llamamos a la función "
   ]
  },
  {
   "cell_type": "code",
   "execution_count": 22,
   "metadata": {},
   "outputs": [
    {
     "name": "stdout",
     "output_type": "stream",
     "text": [
      "1050 (42S01): Table 'zapatillas' already exists\n",
      "Error Code: 1050\n",
      "SQLSTATE 42S01\n",
      "Message Table 'zapatillas' already exists\n"
     ]
    }
   ],
   "source": [
    "crear_tablas('AlumnaAdalab', query_zapatillas)"
   ]
  },
  {
   "cell_type": "markdown",
   "metadata": {},
   "source": [
    "Consulta crear tabla clientes"
   ]
  },
  {
   "cell_type": "code",
   "execution_count": 23,
   "metadata": {},
   "outputs": [],
   "source": [
    "query_clientes =(''' CREATE TABLE clientes (\n",
    "\tid_cliente INT PRIMARY KEY AUTO_INCREMENT NOT NULL,\n",
    "    nombre VARCHAR(45) NOT NULL,\n",
    "    numero_teléfono INT(9) NOT NULL,\n",
    "    email VARCHAR(45) NOT NULL,\n",
    "    direccion VARCHAR(45) NOT NULL,\n",
    "    ciudad VARCHAR(45),\n",
    "    provincia VARCHAR(45) NOT NULL,\n",
    "    pais VARCHAR(45) NOT NULL,\n",
    "    codigo_postal VARCHAR(45) NOT NULL\n",
    "\t)''')\n",
    "    "
   ]
  },
  {
   "cell_type": "markdown",
   "metadata": {},
   "source": [
    "LLamamos a la función"
   ]
  },
  {
   "cell_type": "code",
   "execution_count": 24,
   "metadata": {},
   "outputs": [
    {
     "name": "stdout",
     "output_type": "stream",
     "text": [
      "1050 (42S01): Table 'clientes' already exists\n",
      "Error Code: 1050\n",
      "SQLSTATE 42S01\n",
      "Message Table 'clientes' already exists\n"
     ]
    }
   ],
   "source": [
    "crear_tablas('AlumnaAdalab',query_clientes)"
   ]
  },
  {
   "cell_type": "markdown",
   "metadata": {},
   "source": [
    "Consulta crear tabla empleados"
   ]
  },
  {
   "cell_type": "code",
   "execution_count": 25,
   "metadata": {},
   "outputs": [],
   "source": [
    "query_empleados = ('''CREATE TABLE empleados (\n",
    "\tid_empleado INT PRIMARY KEY AUTO_INCREMENT NOT NULL,\n",
    "    nombre VARCHAR(45) NOT NULL,\n",
    "    tienda VARCHAR(45) NOT NULL,\n",
    "    salario INT,\n",
    "    fecha_bajo_incorporacion DATE NOT NULL\n",
    "    )''')\n",
    "    "
   ]
  },
  {
   "cell_type": "markdown",
   "metadata": {},
   "source": [
    "Llamamos a la función\n"
   ]
  },
  {
   "cell_type": "code",
   "execution_count": 26,
   "metadata": {},
   "outputs": [
    {
     "name": "stdout",
     "output_type": "stream",
     "text": [
      "1050 (42S01): Table 'empleados' already exists\n",
      "Error Code: 1050\n",
      "SQLSTATE 42S01\n",
      "Message Table 'empleados' already exists\n"
     ]
    }
   ],
   "source": [
    "crear_tablas('AlumnaAdalab', query_empleados)"
   ]
  },
  {
   "cell_type": "markdown",
   "metadata": {},
   "source": [
    "Consulta crear tabla facturas"
   ]
  },
  {
   "cell_type": "code",
   "execution_count": 27,
   "metadata": {},
   "outputs": [],
   "source": [
    "query_facturas = ('''CREATE TABLE facturas (\n",
    "\tid_factura INT PRIMARY KEY AUTO_INCREMENT NOT NULL,\n",
    "    numero_factura VARCHAR(45) NOT NULL,\n",
    "    fecha DATE NOT NULL,\n",
    "    id_zapatilla INT NOT NULL,\n",
    "    id_empleado INT NOT NULL,\n",
    "    id_cliente INT NOT NULL,\n",
    "    CONSTRAINT FK_facturas_zapatillas \n",
    "\t\tFOREIGN KEY (id_zapatilla)\n",
    "\tREFERENCES zapatillas(id_zapatilla),\n",
    "     CONSTRAINT FK_facturas_empleados \n",
    "\t\tFOREIGN KEY (id_empleado)\n",
    "\tREFERENCES empleados(id_empleado),\n",
    "     CONSTRAINT FK_facturas_clientes \n",
    "\t\tFOREIGN KEY (id_cliente)\n",
    "\tREFERENCES clientes(id_cliente)\n",
    "    )''')"
   ]
  },
  {
   "cell_type": "code",
   "execution_count": 28,
   "metadata": {},
   "outputs": [
    {
     "name": "stdout",
     "output_type": "stream",
     "text": [
      "1050 (42S01): Table 'facturas' already exists\n",
      "Error Code: 1050\n",
      "SQLSTATE 42S01\n",
      "Message Table 'facturas' already exists\n"
     ]
    }
   ],
   "source": [
    "crear_tablas('AlumnaAdalab',query_facturas)"
   ]
  },
  {
   "cell_type": "code",
   "execution_count": 29,
   "metadata": {},
   "outputs": [],
   "source": [
    "config = {\n",
    "  'user': 'root',\n",
    "  'password': 'AlumnaAdalab',\n",
    "  'host': '127.0.0.1',\n",
    "  'database': 'tienda',\n",
    "  'raise_on_warnings': True\n",
    "}\n",
    "\n",
    "cnx = mysql.connector.connect(**config)\n",
    "\n",
    "cnx.close()"
   ]
  }
 ],
 "metadata": {
  "kernelspec": {
   "display_name": "Python 3.9.7 ('base')",
   "language": "python",
   "name": "python3"
  },
  "language_info": {
   "codemirror_mode": {
    "name": "ipython",
    "version": 3
   },
   "file_extension": ".py",
   "mimetype": "text/x-python",
   "name": "python",
   "nbconvert_exporter": "python",
   "pygments_lexer": "ipython3",
   "version": "3.9.7"
  },
  "orig_nbformat": 4,
  "vscode": {
   "interpreter": {
    "hash": "4b1ecc98482ac3f78e7638a36d488665c227c7cb0420745d3c03f1c165a0d66a"
   }
  }
 },
 "nbformat": 4,
 "nbformat_minor": 2
}
