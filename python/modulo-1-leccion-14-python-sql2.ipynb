{
 "cells": [
  {
   "cell_type": "markdown",
   "metadata": {},
   "source": [
    "Crear tabla mi_primerita_base_de_datos"
   ]
  },
  {
   "cell_type": "code",
   "execution_count": 2,
   "metadata": {},
   "outputs": [
    {
     "name": "stdout",
     "output_type": "stream",
     "text": [
      "1007 (HY000): Can't create database 'mi_primerita_base_de_datos'; database exists\n",
      "Error Code: 1007\n",
      "SQLSTATE HY000\n",
      "Message Can't create database 'mi_primerita_base_de_datos'; database exists\n"
     ]
    }
   ],
   "source": [
    "import mysql.connector\n",
    "\n",
    "cnx = mysql.connector.connect(user='root', password='AlumnaAdalab',\n",
    "                              host='127.0.0.1', database='mi_primerita_base_de_datos')\n",
    "\n",
    "\n",
    "mycursor = cnx.cursor()\n",
    "sql = \"create schema mi_primerita_base_de_datos\"\n",
    "try:\n",
    "    mycursor.execute(sql)\n",
    "    #mycursor.commit()\n",
    "except mysql.connector.Error as err:\n",
    "    print(err)\n",
    "    print(\"Error Code:\", err.errno)\n",
    "    print(\"SQLSTATE\", err.sqlstate)\n",
    "    print(\"Message\", err.msg)"
   ]
  },
  {
   "cell_type": "code",
   "execution_count": 9,
   "metadata": {},
   "outputs": [],
   "source": [
    "query_zapatillas = '''CREATE TABLE zapatillas (\n",
    "\tid_zapatilla INT PRIMARY KEY AUTO_INCREMENT NOT NULL,\n",
    "    modelo VARCHAR(45) NOT NULL,\n",
    "    color VARCHAR(45) NOT NULL\n",
    "\t);'''\n",
    "    "
   ]
  },
  {
   "cell_type": "markdown",
   "metadata": {},
   "source": [
    "Query crear tabla zapatillas"
   ]
  },
  {
   "cell_type": "code",
   "execution_count": 10,
   "metadata": {},
   "outputs": [],
   "source": [
    "try:\n",
    "    mycursor.execute(query_zapatillas)\n",
    "    #mycursor.commit()\n",
    "except mysql.connector.Error as err:\n",
    "    print(err)\n",
    "    print(\"Error Code:\", err.errno)\n",
    "    print(\"SQLSTATE\", err.sqlstate)\n",
    "    print(\"Message\", err.msg)"
   ]
  },
  {
   "cell_type": "markdown",
   "metadata": {},
   "source": [
    "Crear una función para crear tablas independientemente del contenido de la tabla"
   ]
  },
  {
   "cell_type": "code",
   "execution_count": 12,
   "metadata": {},
   "outputs": [],
   "source": [
    "def crear_tablas(query_tabla):\n",
    "    cnx = mysql.connector.connect(user='root', password='AlumnaAdalab',\n",
    "                              host='127.0.0.1', database='mi_primerita_base_de_datos')\n",
    "\n",
    "\n",
    "    mycursor = cnx.cursor()\n",
    "    try:\n",
    "        mycursor.execute(query_tabla)\n",
    "    #mycursor.commit()\n",
    "    except mysql.connector.Error as err:\n",
    "        print(err)\n",
    "        print(\"Error Code:\", err.errno)\n",
    "        print(\"SQLSTATE\", err.sqlstate)\n",
    "        print(\"Message\", err.msg)"
   ]
  },
  {
   "cell_type": "code",
   "execution_count": 15,
   "metadata": {},
   "outputs": [],
   "source": [
    "crear_tablas(query_clientes)"
   ]
  },
  {
   "cell_type": "code",
   "execution_count": 14,
   "metadata": {},
   "outputs": [],
   "source": [
    "query_clientes =''' CREATE TABLE clientes (\n",
    "\tid_cliente INT PRIMARY KEY AUTO_INCREMENT NOT NULL,\n",
    "    nombre VARCHAR(45) NOT NULL,\n",
    "    numero_teléfono INT(9) NOT NULL,\n",
    "    email VARCHAR(45) NOT NULL,\n",
    "    direccion VARCHAR(45) NOT NULL,\n",
    "    ciudad VARCHAR(45),\n",
    "    provincia VARCHAR(45) NOT NULL,\n",
    "    pais VARCHAR(45) NOT NULL,\n",
    "    codigo_postal VARCHAR(45) NOT NULL\n",
    "\t);'''\n",
    "    "
   ]
  },
  {
   "cell_type": "code",
   "execution_count": 16,
   "metadata": {},
   "outputs": [],
   "source": [
    "tabla_empleados = '''CREATE TABLE empleados (\n",
    "\tid_empleado INT PRIMARY KEY AUTO_INCREMENT NOT NULL,\n",
    "    nombre VARCHAR(45) NOT NULL,\n",
    "    tienda VARCHAR(45) NOT NULL,\n",
    "    salario INT,\n",
    "    fecha_bajo_incorporacion DATE NOT NULL\n",
    "    );'''\n",
    "    "
   ]
  },
  {
   "cell_type": "code",
   "execution_count": 18,
   "metadata": {},
   "outputs": [],
   "source": [
    "crear_tablas(tabla_empleados)"
   ]
  },
  {
   "cell_type": "code",
   "execution_count": 19,
   "metadata": {},
   "outputs": [],
   "source": [
    "tabla_facturas = '''CREATE TABLE facturas (\n",
    "\tid_factura INT PRIMARY KEY AUTO_INCREMENT NOT NULL,\n",
    "    numero_factura VARCHAR(45) NOT NULL,\n",
    "    fecha DATE NOT NULL,\n",
    "    id_zapatilla INT NOT NULL,\n",
    "    id_empleado INT NOT NULL,\n",
    "    id_cliente INT NOT NULL,\n",
    "    CONSTRAINT FK_facturas_zapatillas \n",
    "\t\tFOREIGN KEY (id_zapatilla)\n",
    "\tREFERENCES zapatillas(id_zapatilla),\n",
    "     CONSTRAINT FK_facturas_empleados \n",
    "\t\tFOREIGN KEY (id_empleado)\n",
    "\tREFERENCES empleados(id_empleado),\n",
    "     CONSTRAINT FK_facturas_clientes \n",
    "\t\tFOREIGN KEY (id_cliente)\n",
    "\tREFERENCES clientes(id_cliente)\n",
    "    );'''"
   ]
  },
  {
   "cell_type": "code",
   "execution_count": 20,
   "metadata": {},
   "outputs": [],
   "source": [
    "crear_tablas(tabla_facturas)"
   ]
  },
  {
   "cell_type": "code",
   "execution_count": 3,
   "metadata": {},
   "outputs": [],
   "source": [
    "config = {\n",
    "  'user': 'root',\n",
    "  'password': 'AlumnaAdalab',\n",
    "  'host': '127.0.0.1',\n",
    "  'database': 'tienda',\n",
    "  'raise_on_warnings': True\n",
    "}\n",
    "\n",
    "cnx = mysql.connector.connect(**config)\n",
    "\n",
    "cnx.close()"
   ]
  }
 ],
 "metadata": {
  "kernelspec": {
   "display_name": "Python 3.9.7 ('base')",
   "language": "python",
   "name": "python3"
  },
  "language_info": {
   "codemirror_mode": {
    "name": "ipython",
    "version": 3
   },
   "file_extension": ".py",
   "mimetype": "text/x-python",
   "name": "python",
   "nbconvert_exporter": "python",
   "pygments_lexer": "ipython3",
   "version": "3.9.7"
  },
  "orig_nbformat": 4,
  "vscode": {
   "interpreter": {
    "hash": "4b1ecc98482ac3f78e7638a36d488665c227c7cb0420745d3c03f1c165a0d66a"
   }
  }
 },
 "nbformat": 4,
 "nbformat_minor": 2
}
