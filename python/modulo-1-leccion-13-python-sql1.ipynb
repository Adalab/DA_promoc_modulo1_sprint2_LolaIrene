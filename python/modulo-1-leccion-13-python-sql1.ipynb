{
 "cells": [
  {
   "cell_type": "markdown",
   "metadata": {},
   "source": [
    "1.Antes de empezar a trabajar con la BBDD de Northwind, conozcamos un poco las BBDD que tenemos en nuestro servidor. ¿Qué BBDD tenemos en nuestro servidor?"
   ]
  },
  {
   "cell_type": "code",
   "execution_count": null,
   "metadata": {},
   "outputs": [
    {
     "ename": "",
     "evalue": "",
     "output_type": "error",
     "traceback": [
      "\u001b[1;31mLa ejecución de celdas con 'Python 3.8.10 64-bit' requieren el paquete ipykernel.\n",
      "\u001b[1;31mEjecute el siguiente comando para instalar 'ipykernel' en el entorno de Python. comando \n",
      "\u001b[1;31m: '/bin/python3 -m pip install ipykernel -U --user --force-reinstall'"
     ]
    }
   ],
   "source": [
    "import mysql.connector\n",
    "\n",
    "cnx = mysql.connector.connect(user='root', password='118lion27',\n",
    "                              host='127.0.0.1',\n",
    "                              database='northwind')\n",
    "\n",
    "print(cnx)\n",
    "#cnx.close()"
   ]
  },
  {
   "cell_type": "code",
   "execution_count": 4,
   "metadata": {},
   "outputs": [
    {
     "name": "stdout",
     "output_type": "stream",
     "text": [
      "('ejerciciocreacióntablas',)\n",
      "('information_schema',)\n",
      "('leccion-1-sql',)\n",
      "('leccion-10-sql',)\n",
      "('leccion-11-sql',)\n",
      "('leccion-12-sql',)\n",
      "('leccion-13-sql',)\n",
      "('leccion-14-sql',)\n",
      "('leccion-2-sql',)\n",
      "('leccion-3-sql',)\n",
      "('leccion-4-sql',)\n",
      "('leccion-5-sql',)\n",
      "('leccion-6-sql',)\n",
      "('leccion-7-sql',)\n",
      "('leccion-8-sql',)\n",
      "('leccion-9-sql',)\n",
      "('mysql',)\n",
      "('northwind',)\n",
      "('performance_schema',)\n",
      "('proyecto1',)\n",
      "('sakila',)\n",
      "('spotify',)\n",
      "('sql_repaso_schema',)\n",
      "('sys',)\n",
      "('tienda',)\n",
      "('world',)\n"
     ]
    }
   ],
   "source": [
    "\n",
    "mycursor = cnx.cursor() #activamos el cursor\n",
    "\n",
    "mycursor.execute(\"SHOW DATABASES\") #ejecutamos la query\n",
    "\n",
    "for x in mycursor: #vemos todas nuestras bases de datos dentro de nuestro mysql\n",
    "  print(x)\n"
   ]
  },
  {
   "cell_type": "markdown",
   "metadata": {},
   "source": [
    "2.Empezemos a explorar la BBDD de Northwind. ¿Qué tablas componen la BBDD? Recuerda que primero nos tendremos que conectar con la BBDD sobre la que queremos trabajar. Guarda el resultado de los nombres de la tablas en una lista."
   ]
  },
  {
   "cell_type": "code",
   "execution_count": 5,
   "metadata": {},
   "outputs": [],
   "source": [
    "mycursor = cnx.cursor() #activamos cursor\n",
    "\n",
    "mycursor.execute(\"SHOW TABLES\") #pedimos que nos muestre las tablas de northwind\n",
    "tablas = []\n",
    "for x in mycursor: \n",
    "    list(x)\n",
    "    tablas.extend(x)\n",
    "   \n"
   ]
  },
  {
   "cell_type": "code",
   "execution_count": 6,
   "metadata": {},
   "outputs": [
    {
     "name": "stdout",
     "output_type": "stream",
     "text": [
      "['categories', 'customer_customer_demo', 'customer_demographics', 'customers', 'employee_territories', 'employees', 'order_details', 'orders', 'products', 'region', 'shippers', 'suppliers', 'territories']\n"
     ]
    }
   ],
   "source": [
    "print(tablas)"
   ]
  },
  {
   "cell_type": "markdown",
   "metadata": {},
   "source": [
    "3.Qué columnas tiene cada una de las tablas? Para esto tendréis que hacer un for loop para que nos saque el resultado de todas las columnas."
   ]
  },
  {
   "cell_type": "code",
   "execution_count": 8,
   "metadata": {},
   "outputs": [
    {
     "name": "stdout",
     "output_type": "stream",
     "text": [
      "('categories', 'category_id')\n",
      "('categories', 'category_name')\n",
      "('categories', 'description')\n",
      "('categories', 'picture')\n",
      "('customer_customer_demo', 'customer_id')\n",
      "('customer_customer_demo', 'customertype_id')\n",
      "('customer_demographics', 'customer_desc')\n",
      "('customer_demographics', 'customer_type_id')\n",
      "('customers', 'address')\n",
      "('customers', 'city')\n",
      "('customers', 'company_name')\n",
      "('customers', 'contact_name')\n",
      "('customers', 'contact_title')\n",
      "('customers', 'country')\n",
      "('customers', 'customer_id')\n",
      "('customers', 'fax')\n",
      "('customers', 'phone')\n",
      "('customers', 'postal_code')\n",
      "('customers', 'region')\n",
      "('employee_territories', 'employee_id')\n",
      "('employee_territories', 'territory_id')\n",
      "('employees', 'address')\n",
      "('employees', 'birth_date')\n",
      "('employees', 'city')\n",
      "('employees', 'country')\n",
      "('employees', 'employee_id')\n",
      "('employees', 'extension')\n",
      "('employees', 'first_name')\n",
      "('employees', 'hire_date')\n",
      "('employees', 'home_phone')\n",
      "('employees', 'last_name')\n",
      "('employees', 'notes')\n",
      "('employees', 'photo')\n",
      "('employees', 'photo_path')\n",
      "('employees', 'postal_code')\n",
      "('employees', 'region')\n",
      "('employees', 'reports_to')\n",
      "('employees', 'title')\n",
      "('employees', 'title_of_courtesy')\n",
      "('order_details', 'discount')\n",
      "('order_details', 'order_id')\n",
      "('order_details', 'product_id')\n",
      "('order_details', 'quantity')\n",
      "('order_details', 'unit_price')\n",
      "('orders', 'customer_id')\n",
      "('orders', 'employee_id')\n",
      "('orders', 'freight')\n",
      "('orders', 'order_date')\n",
      "('orders', 'order_id')\n",
      "('orders', 'required_date')\n",
      "('orders', 'ship_address')\n",
      "('orders', 'ship_city')\n",
      "('orders', 'ship_country')\n",
      "('orders', 'ship_name')\n",
      "('orders', 'ship_postal_code')\n",
      "('orders', 'ship_region')\n",
      "('orders', 'ship_via')\n",
      "('orders', 'shipped_date')\n",
      "('products', 'category_id')\n",
      "('products', 'discontinued')\n",
      "('products', 'product_id')\n",
      "('products', 'product_name')\n",
      "('products', 'quantity_per_unit')\n",
      "('products', 'reorder_level')\n",
      "('products', 'supplier_id')\n",
      "('products', 'unit_price')\n",
      "('products', 'units_in_stock')\n",
      "('products', 'units_on_order')\n",
      "('region', 'region_description')\n",
      "('region', 'region_id')\n",
      "('shippers', 'company_name')\n",
      "('shippers', 'phone')\n",
      "('shippers', 'shipper_id')\n",
      "('suppliers', 'adress')\n",
      "('suppliers', 'city')\n",
      "('suppliers', 'company_name')\n",
      "('suppliers', 'contact_name')\n",
      "('suppliers', 'contact_title')\n",
      "('suppliers', 'country')\n",
      "('suppliers', 'fax')\n",
      "('suppliers', 'home_page')\n",
      "('suppliers', 'phone')\n",
      "('suppliers', 'postal_code')\n",
      "('suppliers', 'region')\n",
      "('suppliers', 'supplier_id')\n",
      "('territories', 'region_id')\n",
      "('territories', 'territory_description')\n",
      "('territories', 'territory_id')\n"
     ]
    }
   ],
   "source": [
    "mydb = mysql.connector.connect(\n",
    "  host=\"localhost\",\n",
    "  user=\"root\",\n",
    "  password=\"118lion27\",\n",
    "  database=\"INFORMATION_SCHEMA\"\n",
    "  ) #nos conectamos a la base de datos de INFORMATION_SCHEMA\n",
    "\n",
    "#Iniciamos el cursor y lo almacenamos en una variable llamada \"mycursor\". \n",
    "mycursor = mydb.cursor()\n",
    "\n",
    "mycursor.execute(\"SELECT TABLE_NAME, COLUMN_NAME FROM COLUMNS WHERE TABLE_SCHEMA = 'northwind'\") # ejecutamos la query\n",
    "\n",
    "for x in mycursor: \n",
    "  print (x)\n"
   ]
  },
  {
   "cell_type": "markdown",
   "metadata": {},
   "source": [
    "4.1 Extraed el primer pedido donde se ha gastado más. "
   ]
  },
  {
   "cell_type": "markdown",
   "metadata": {},
   "source": [
    "\n",
    "Extraed el primer pedido donde se ha gastado más. Devolved el id del pedido y la cantidad gastada.\n",
    "Devuelve la misma query que en el anterior ejercicio, pero en este caso devuelve todos los resultados.\n",
    "Extraed el números de pedidos que se hayan hecho por dia. Devuelve los resultados en una dataframe.\n",
    "Extraer los pedidos hechos por \"Nancy Daviolo\". Tendréis que hacer una subquery."
   ]
  },
  {
   "cell_type": "code",
   "execution_count": 9,
   "metadata": {},
   "outputs": [
    {
     "name": "stdout",
     "output_type": "stream",
     "text": [
      "(10248, 15810.0)\n"
     ]
    }
   ],
   "source": [
    "\n",
    "mydb = mysql.connector.connect(\n",
    "  host=\"localhost\",\n",
    "  user=\"root\",\n",
    "  password=\"118lion27\",\n",
    "  database=\"northwind\") #nos conectamos a la base de datos de northwind\n",
    "\n",
    "# Iniciamos el cursor y lo almacenamos en una variable llamada \"mycursor\". \n",
    "mycursor = mydb.cursor()\n",
    "mycursor.execute(('''SELECT  order_id , MAX(quantity*unit_price) AS pedido_mas_caro\n",
    "                    FROM order_details \n",
    "                    ORDER BY unit_price DESC \n",
    "                    LIMIT 3;'''))\n",
    "myresult = mycursor.fetchone() #pedimos que nos enseñe un resultado\n",
    "print(myresult)\n"
   ]
  },
  {
   "cell_type": "markdown",
   "metadata": {},
   "source": [
    "4.2 Devuelve la misma query que en el anterior ejercicio, pero en este caso devuelve todos los resultados."
   ]
  },
  {
   "cell_type": "code",
   "execution_count": 10,
   "metadata": {},
   "outputs": [
    {
     "name": "stdout",
     "output_type": "stream",
     "text": [
      "         id  pedido_mas_caro\n",
      "0     10518           3952.5\n",
      "1     10540           7905.0\n",
      "2     10541           1054.0\n",
      "3     10616           3952.5\n",
      "4     10672           3952.5\n",
      "...     ...              ...\n",
      "2150  10410             98.0\n",
      "2151  10414            100.0\n",
      "2152  10415             40.0\n",
      "2153  10454             40.0\n",
      "2154  10473             24.0\n",
      "\n",
      "[2155 rows x 2 columns]\n"
     ]
    }
   ],
   "source": [
    "import pandas as pd\n",
    "mydb = mysql.connector.connect(\n",
    "  host=\"localhost\",\n",
    "  user=\"root\",\n",
    "  password=\"118lion27\",\n",
    "  database=\"northwind\")\n",
    "\n",
    "# Iniciamos el cursor y lo almacenamos en una variable llamada \"mycursor\". \n",
    "mycursor = mydb.cursor()\n",
    "mycursor.execute('''SELECT  order_id , quantity*unit_price AS precio_pedido_mas_caro\n",
    "                    FROM order_details \n",
    "                    ORDER BY unit_price DESC''')\n",
    "todoresultado = mycursor.fetchall()\n",
    "\n",
    "df = pd.DataFrame(todoresultado, columns = ['id','pedido_mas_caro']) #almacenamos en una variable nuestro Data Frame, le damos nombre a las columnas\n",
    "print(df) #lo printeamos"
   ]
  },
  {
   "cell_type": "markdown",
   "metadata": {},
   "source": [
    "4.3 Extraed el números de pedidos que se hayan hecho por dia. Devuelve los resultados en una dataframe."
   ]
  },
  {
   "cell_type": "code",
   "execution_count": 11,
   "metadata": {},
   "outputs": [
    {
     "data": {
      "text/html": [
       "<div>\n",
       "<style scoped>\n",
       "    .dataframe tbody tr th:only-of-type {\n",
       "        vertical-align: middle;\n",
       "    }\n",
       "\n",
       "    .dataframe tbody tr th {\n",
       "        vertical-align: top;\n",
       "    }\n",
       "\n",
       "    .dataframe thead th {\n",
       "        text-align: right;\n",
       "    }\n",
       "</style>\n",
       "<table border=\"1\" class=\"dataframe\">\n",
       "  <thead>\n",
       "    <tr style=\"text-align: right;\">\n",
       "      <th></th>\n",
       "      <th>id</th>\n",
       "      <th>fecha</th>\n",
       "    </tr>\n",
       "  </thead>\n",
       "  <tbody>\n",
       "    <tr>\n",
       "      <th>0</th>\n",
       "      <td>1</td>\n",
       "      <td>1996-07-04</td>\n",
       "    </tr>\n",
       "    <tr>\n",
       "      <th>1</th>\n",
       "      <td>1</td>\n",
       "      <td>1996-07-05</td>\n",
       "    </tr>\n",
       "    <tr>\n",
       "      <th>2</th>\n",
       "      <td>2</td>\n",
       "      <td>1996-07-08</td>\n",
       "    </tr>\n",
       "    <tr>\n",
       "      <th>3</th>\n",
       "      <td>1</td>\n",
       "      <td>1996-07-09</td>\n",
       "    </tr>\n",
       "    <tr>\n",
       "      <th>4</th>\n",
       "      <td>1</td>\n",
       "      <td>1996-07-10</td>\n",
       "    </tr>\n",
       "  </tbody>\n",
       "</table>\n",
       "</div>"
      ],
      "text/plain": [
       "   id      fecha\n",
       "0   1 1996-07-04\n",
       "1   1 1996-07-05\n",
       "2   2 1996-07-08\n",
       "3   1 1996-07-09\n",
       "4   1 1996-07-10"
      ]
     },
     "execution_count": 11,
     "metadata": {},
     "output_type": "execute_result"
    }
   ],
   "source": [
    "mydb = mysql.connector.connect(\n",
    "  host=\"localhost\",\n",
    "  user=\"root\",\n",
    "  password=\"118lion27\",\n",
    "  database=\"northwind\")\n",
    "\n",
    "# Iniciamos el cursor y lo almacenamos en una variable llamada \"mycursor\". \n",
    "mycursor = mydb.cursor()\n",
    "mycursor.execute('''SELECT count(order_id), order_date FROM orders GROUP BY order_date''')\n",
    "pedidos_dia = mycursor.fetchall()\n",
    "\n",
    "datos_pedidos_dia = pd.DataFrame(pedidos_dia, columns = ['id','fecha'])\n",
    "datos_pedidos_dia.head() #pedimos que nos muestre los primeros resultados de nuestra consulta"
   ]
  },
  {
   "cell_type": "markdown",
   "metadata": {},
   "source": [
    "4.4 Extraer los pedidos hechos por \"Nancy Daviolo\". Tendréis que hacer una subquery."
   ]
  },
  {
   "cell_type": "code",
   "execution_count": 13,
   "metadata": {},
   "outputs": [
    {
     "name": "stdout",
     "output_type": "stream",
     "text": [
      "     id_pedido\n",
      "0        10258\n",
      "1        10270\n",
      "2        10275\n",
      "3        10285\n",
      "4        10292\n",
      "..         ...\n",
      "118      11064\n",
      "119      11067\n",
      "120      11069\n",
      "121      11071\n",
      "122      11077\n",
      "\n",
      "[123 rows x 1 columns]\n"
     ]
    }
   ],
   "source": [
    "mydb = mysql.connector.connect(\n",
    "  host=\"localhost\",\n",
    "  user=\"root\",\n",
    "  password=\"118lion27\",\n",
    "  database=\"northwind\")\n",
    "\n",
    "# Iniciamos el cursor y lo almacenamos en una variable llamada \"mycursor\". \n",
    "mycursor = mydb.cursor()\n",
    "mycursor.execute('''SELECT orders.order_id FROM orders WHERE orders.employee_id IN\n",
    "                 (SELECT employee_id\n",
    "\t\t\t\t  FROM employees\n",
    "\t\t\t\t WHERE employees.first_name = 'Nancy' AND employees.last_name = 'Davolio')''')\n",
    "pedidos_nancy = mycursor.fetchall()\n",
    "datos_pedidos_nancy = pd.DataFrame(pedidos_nancy, columns = ['id_pedido'])\n",
    "\n"
   ]
  },
  {
   "cell_type": "code",
   "execution_count": 14,
   "metadata": {},
   "outputs": [
    {
     "data": {
      "text/plain": [
       "123"
      ]
     },
     "execution_count": 14,
     "metadata": {},
     "output_type": "execute_result"
    }
   ],
   "source": [
    "len(datos_pedidos_nancy) #comprobamos la longitud, tiene 123 filas"
   ]
  },
  {
   "cell_type": "code",
   "execution_count": 15,
   "metadata": {},
   "outputs": [
    {
     "data": {
      "text/html": [
       "<div>\n",
       "<style scoped>\n",
       "    .dataframe tbody tr th:only-of-type {\n",
       "        vertical-align: middle;\n",
       "    }\n",
       "\n",
       "    .dataframe tbody tr th {\n",
       "        vertical-align: top;\n",
       "    }\n",
       "\n",
       "    .dataframe thead th {\n",
       "        text-align: right;\n",
       "    }\n",
       "</style>\n",
       "<table border=\"1\" class=\"dataframe\">\n",
       "  <thead>\n",
       "    <tr style=\"text-align: right;\">\n",
       "      <th></th>\n",
       "      <th>id_pedido</th>\n",
       "    </tr>\n",
       "  </thead>\n",
       "  <tbody>\n",
       "    <tr>\n",
       "      <th>0</th>\n",
       "      <td>10258</td>\n",
       "    </tr>\n",
       "    <tr>\n",
       "      <th>1</th>\n",
       "      <td>10270</td>\n",
       "    </tr>\n",
       "    <tr>\n",
       "      <th>2</th>\n",
       "      <td>10275</td>\n",
       "    </tr>\n",
       "    <tr>\n",
       "      <th>3</th>\n",
       "      <td>10285</td>\n",
       "    </tr>\n",
       "    <tr>\n",
       "      <th>4</th>\n",
       "      <td>10292</td>\n",
       "    </tr>\n",
       "    <tr>\n",
       "      <th>...</th>\n",
       "      <td>...</td>\n",
       "    </tr>\n",
       "    <tr>\n",
       "      <th>118</th>\n",
       "      <td>11064</td>\n",
       "    </tr>\n",
       "    <tr>\n",
       "      <th>119</th>\n",
       "      <td>11067</td>\n",
       "    </tr>\n",
       "    <tr>\n",
       "      <th>120</th>\n",
       "      <td>11069</td>\n",
       "    </tr>\n",
       "    <tr>\n",
       "      <th>121</th>\n",
       "      <td>11071</td>\n",
       "    </tr>\n",
       "    <tr>\n",
       "      <th>122</th>\n",
       "      <td>11077</td>\n",
       "    </tr>\n",
       "  </tbody>\n",
       "</table>\n",
       "<p>123 rows × 1 columns</p>\n",
       "</div>"
      ],
      "text/plain": [
       "     id_pedido\n",
       "0        10258\n",
       "1        10270\n",
       "2        10275\n",
       "3        10285\n",
       "4        10292\n",
       "..         ...\n",
       "118      11064\n",
       "119      11067\n",
       "120      11069\n",
       "121      11071\n",
       "122      11077\n",
       "\n",
       "[123 rows x 1 columns]"
      ]
     },
     "execution_count": 15,
     "metadata": {},
     "output_type": "execute_result"
    }
   ],
   "source": [
    "datos_pedidos_nancy.head(123) #pedimos que nos muestre las 123"
   ]
  },
  {
   "cell_type": "markdown",
   "metadata": {},
   "source": [
    "5.Para finalizar el ejercicio, desconectad la conexión con el servidor."
   ]
  },
  {
   "cell_type": "code",
   "execution_count": null,
   "metadata": {},
   "outputs": [],
   "source": [
    "mycursor.close()\n",
    "mydb.close()"
   ]
  }
 ],
 "metadata": {
  "kernelspec": {
   "display_name": "Python 3.8.10 64-bit",
   "language": "python",
   "name": "python3"
  },
  "language_info": {
   "codemirror_mode": {
    "name": "ipython",
    "version": 3
   },
   "file_extension": ".py",
   "mimetype": "text/x-python",
   "name": "python",
   "nbconvert_exporter": "python",
   "pygments_lexer": "ipython3",
   "version": "3.8.10"
  },
  "orig_nbformat": 4,
  "vscode": {
   "interpreter": {
    "hash": "916dbcbb3f70747c44a77c7bcd40155683ae19c65e1c03b4aa3499c5328201f1"
   }
  }
 },
 "nbformat": 4,
 "nbformat_minor": 2
}
