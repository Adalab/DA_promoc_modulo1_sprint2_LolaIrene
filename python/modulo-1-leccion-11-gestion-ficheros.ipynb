{
 "cells": [
  {
   "cell_type": "markdown",
   "metadata": {},
   "source": [
    "Esta función debe incluir el código que:\n",
    "\n",
    "1.Nos muestre en que carpeta estamos trabajando.\n",
    "\n",
    "2.Cree una carpeta que se llame \"aprendiendo-ficheros\". ⚠️ Tened en cuenta que si la carpeta ya existe no la podemos crear, nos devolverá un error. Incluye en la función un programa que evite que nos de un error si la carpeta ya existe.\n",
    "\n",
    "3.Cree otra carpeta que se llame \"datos\" dentro de la carpeta \"aprendiendo-ficheros\". En esta carpeta \"datos\" guardaremos el fichero \"saludo.txt\" que os habéis descargado.\n",
    "\n",
    "4.Cambiad el directorio de trabajo a la carpeta \"datos\". Antes de seguir chequead que estáis trabajando en la carpeta \"datos\".\n",
    "\n",
    "5.Cambiad el nombre de la carpeta creada en el punto 2 a \"primera-toma-contacto\"\n"
   ]
  },
  {
   "cell_type": "code",
   "execution_count": 51,
   "metadata": {},
   "outputs": [],
   "source": [
    "import os"
   ]
  },
  {
   "cell_type": "code",
   "execution_count": 52,
   "metadata": {},
   "outputs": [
    {
     "data": {
      "text/plain": [
       "['aprendiendo_ficheros',\n",
       " 'email.txt',\n",
       " 'modulo-1-leccion-08-funciones.ipynb',\n",
       " 'modulo-1-leccion-09-funciones2.ipynb',\n",
       " 'modulo-1-leccion-10-clases.ipynb',\n",
       " 'modulo-1-leccion-11-gestion-ficheros.ipynb',\n",
       " 'modulo-1-leccion-13-python-sql1.ipynb',\n",
       " 'modulo-1-leccion-14-python-sql2.ipynb',\n",
       " 'modulo-1-leccion12-regex.ipynb',\n",
       " 'peliculas.xml',\n",
       " 'primera_toma_contacto']"
      ]
     },
     "execution_count": 52,
     "metadata": {},
     "output_type": "execute_result"
    }
   ],
   "source": [
    "os.listdir()"
   ]
  },
  {
   "cell_type": "code",
   "execution_count": 53,
   "metadata": {},
   "outputs": [],
   "source": [
    "ruta_aprendiendo_ficheros =('/mnt/c/Users/Lola/Desktop/Adalab/pair programming/DA-promoC-modulo1-spring2-IreneLola/DA_promoc_modulo1_sprint2_LolaIrene/python/aprendiendo-ficheros')\n",
    "ruta_primera_toma_contacto =('/mnt/c/Users/Lola/Desktop/Adalab/pair programming/DA-promoC-modulo1-spring2-IreneLola/DA_promoc_modulo1_sprint2_LolaIrene/python/primera-toma-contacto')"
   ]
  },
  {
   "cell_type": "code",
   "execution_count": 54,
   "metadata": {},
   "outputs": [],
   "source": [
    "import os"
   ]
  },
  {
   "cell_type": "code",
   "execution_count": 55,
   "metadata": {},
   "outputs": [],
   "source": [
    "def cambiar_carpeta(nombre_primera_carpeta,nombre_segunda_carpeta,nuevo_nombre): #definimos una función\n",
    "    print(os.getcwd()) #pedimos que nos muestre en que carpeta estamos trabajando\n",
    "    if nombre_primera_carpeta in os.listdir(): \n",
    "        print('El fichero ya existe') #si nuestra carpeta está en nuestro directorio nos printea este mensaje\n",
    "    else : #si no está en nuestro directorio\n",
    "        os.mkdir(nombre_primera_carpeta) #nos crea una carpeta con el nombre que le pasamos en el parámetro\n",
    "        print(f'La carpeta {nombre_primera_carpeta} se ha creado') \n",
    "        os.chdir(nombre_primera_carpeta) #cambiamos de directorio a la carpeta que hemos creado \n",
    "        os.mkdir(nombre_segunda_carpeta) #ahí creamos otra carpeta\n",
    "        os.chdir(nombre_segunda_carpeta) #entramos en esta nueva\n",
    "        print(os.getcwd()) #nos lo printeea para que sepamos donde estamos trabajando\n",
    "        os.chdir(\"../../\") #nos movemos para atrás dos veces\n",
    "        os.rename(nombre_primera_carpeta, nuevo_nombre) #cambiamos el nomrbre de la carpeta"
   ]
  },
  {
   "cell_type": "code",
   "execution_count": 56,
   "metadata": {},
   "outputs": [
    {
     "name": "stdout",
     "output_type": "stream",
     "text": [
      "/mnt/c/Users/irene/Documents/Adalab/modulo_2/sprint_pairprogramming/DA_promoc_modulo1_sprint2_LolaIrene/python\n",
      "El fichero ya existe\n"
     ]
    }
   ],
   "source": [
    "cambiar_carpeta(\"aprendiendo_ficheros\", \"datos\", \"primera_toma_contacto\")"
   ]
  },
  {
   "cell_type": "markdown",
   "metadata": {},
   "source": [
    "Segunda función\n",
    "\n",
    "1.Lea el fichero que se llame \"saludo.txt y muestre su contenido completo.\n",
    "\n",
    "2.Muestra la línea 4 del fichero\n"
   ]
  },
  {
   "cell_type": "code",
   "execution_count": 1,
   "metadata": {},
   "outputs": [],
   "source": [
    "\n",
    "\n",
    "ruta_datos ='/mnt/c/Users/Lola/Desktop/Adalab/pair programming/DA-promoC-modulo1-spring2-IreneLola/DA_promoc_modulo1_sprint2_LolaIrene/python/primera_toma_contacto/datos'"
   ]
  },
  {
   "cell_type": "code",
   "execution_count": 2,
   "metadata": {},
   "outputs": [
    {
     "data": {
      "text/plain": [
       "'/mnt/c/Users/Lola/Desktop/Adalab/pair programming/DA-promoC-modulo1-spring2-IreneLola/DA_promoc_modulo1_sprint2_LolaIrene/python'"
      ]
     },
     "execution_count": 2,
     "metadata": {},
     "output_type": "execute_result"
    }
   ],
   "source": [
    "os.getcwd()"
   ]
  },
  {
   "cell_type": "code",
   "execution_count": 3,
   "metadata": {},
   "outputs": [
    {
     "name": "stdout",
     "output_type": "stream",
     "text": [
      "Esto esta siendo suuuper divertidooooo\n"
     ]
    }
   ],
   "source": [
    "input('Donde está el archivo?')\n",
    "if os.getcwd() not in ruta_datos:\n",
    "    os.chdir(ruta_datos)\n",
    "    f = open('/mnt/c/Users/Lola/Desktop/Adalab/pair programming/DA-promoC-modulo1-spring2-IreneLola/DA_promoc_modulo1_sprint2_LolaIrene/python/primera_toma_contacto/datos/saludo.txt')\n",
    "    linea = f.readlines()\n",
    "    print(linea[4])    \n",
    "else: \n",
    "    f = open('/mnt/c/Users/Lola/Desktop/Adalab/pair programming/DA-promoC-modulo1-spring2-IreneLola/DA_promoc_modulo1_sprint2_LolaIrene/python/primera_toma_contacto/datos/saludo.txt')\n",
    "    linea = f.readlines()\n",
    "    print(linea[4])    "
   ]
  },
  {
   "cell_type": "markdown",
   "metadata": {},
   "source": [
    "Lectura y escritura de ficheros\n",
    "La función debe recibir 4 parámetros:\n",
    "\n",
    "Nombre del fichero, incluyendo la extensión.\n",
    "\n",
    "Como queremos leer el fichero.\n",
    "\n",
    "El encoding del fichero.\n",
    "\n",
    "El contenido que queremos escribir en el fichero.\n",
    "\n",
    "Condiciones de la función:\n",
    "\n",
    "Si el fichero no existe, debe crearlo, insertar contenido y mostrar su contenido.\n",
    "\n",
    "Si el fichero existe pregunta al usuario si quiere sobreescribirlo. En caso de Si, sobreescribe el fichero, insertad contenido y leedlo. En caso de No, no hace nada.\n",
    "\n"
   ]
  },
  {
   "cell_type": "code",
   "execution_count": 6,
   "metadata": {},
   "outputs": [],
   "source": [
    "def lectura_escritura(nombre,extension,contenido,encoding='utf8'):\n",
    "    nombre_fichero = nombre + extension\n",
    "    if nombre_fichero in os.listdir():\n",
    "        pregunta=input('El fichero ya existe,quieres sobreescribirlo? Escribe s/n')\n",
    "        if pregunta == 's':\n",
    "            with open(nombre_fichero,'w') as f:\n",
    "               \n",
    "               f.write(contenido)\n",
    "               print(f.read())\n",
    "               f.close()\n",
    "       \n",
    "\n",
    "    else:\n",
    "        with open(nombre_fichero,'x','r') as f:\n",
    "               f.write(contenido)\n",
    "               print(f.read())\n",
    "               f.close()\n",
    "\n",
    "\n",
    "            "
   ]
  },
  {
   "cell_type": "markdown",
   "metadata": {},
   "source": [
    "Probamos\n"
   ]
  },
  {
   "cell_type": "code",
   "execution_count": 7,
   "metadata": {},
   "outputs": [],
   "source": [
    "lectura_escritura(\"texto\",\".txt\",'''\n",
    "\n",
    "      Thu Oct 31 08:11:39 2002\n",
    "        Return-Path: <bensul2004nng@spinfinder.com>\n",
    "        X-Sieve: cmu-sieve 2.0\n",
    "        Return-Path: <bensul2004nng@spinfinder.com>\n",
    "        Message-Id: <200210311310.g9VDANt24674@bloodwork.mr.itd.UM>\n",
    "        From: \"Mr. Ben Suleman\" <bensul2004nng@spinfinder.com>\n",
    "        Date: Thu, 31 Oct 2002 05:10:00\n",
    "        To: R@M\n",
    "        Subject: URGENT ASSISTANCE /RELATIONSHIP (P)\n",
    "        MIME-Version: 1.0\n",
    "        Content-Type: text/plain;charset=\"iso-8859-1\"\n",
    "        Content-Transfer-Encoding: 7bit\n",
    "        Status: O\n",
    "\n",
    "        Dear Friend,\n",
    "\n",
    "        I am Mr. Ben Suleman a custom officer and work as Assistant controller of the Customs and Excise department Of the Federal Ministry of Internal Affairs stationed at the Murtala Mohammed International Airport, Ikeja, Lagos-Nigeria.\n",
    "\n",
    "        After the sudden death of the former Head of state of Nigeria General Sanni Abacha on June 8th 1998 his aides and immediate members of his family were arrested while trying to escape from Nigeria in a Chartered jet to Saudi Arabia with 6 trunk boxes Marked \"Diplomatic Baggage\". Acting on a tip-off as they attempted to board the Air Craft,my officials carried out a thorough search on the air craft and discovered that the 6 trunk boxes contained foreign currencies amounting to US$197,570,000.00(One Hundred and  Ninety-Seven Million Five Hundred Seventy Thousand United States Dollars).\n",
    "\n",
    "        I declared only (5) five boxes to the government and withheld one (1) in my custody containing the sum of (US$30,000,000.00) Thirty Million United States Dollars Only, which has been disguised to prevent their being discovered during transportation process.Due to several media reports on the late head of state about all the money him and his co-government officials stole from our government treasury amounting\n",
    "        to US$55 Billion Dollars (ref:ngrguardiannews.com) of July 2nd 1999. Even the London times of July 1998 reported that General Abacha has over US$3.Billion dollars in one account overseas. We decided to conceal this one (1)box till the situation is calm and quite on the issue. The box was thus deposited with a security company here in Nigeria and tagged as \"Precious Stones and Jewellry\" in other that its\n",
    "        content will not be discovered. Now that all is calm, we (myself and two of my colleagues in the operations team) are now ready to move this box out of the country through a diplomatic arrangement which is the safest means. \n",
    "\n",
    "        However as government officials the Civil Service Code of Conduct does not allow us by law to operate any foreign account or own foreign investment and the amount of money that can be found in our account\n",
    "        cannot be more than our salary on the average, thus our handicapp and our need for your assistance to help collect and keep safely in your account this money.\n",
    "\n",
    "        Therefore we want you to assist us in moving this money out of Nigeria. We shall definitely compensate you handsomely for the assistance. We can do this by instructing the Security Company here in Nigeria to\n",
    "        move the consignment to their affiliate branch office outside Nigeria through diplomatic means and the consignment will be termed as Precious Stones and Jewelleries\" which you bought during your visit to Nigeria and is being transfered to your country from here for safe keeping. Then we can arrange to meet at the destination country to take the delivery of the consignment. You will thereafter open an account there and lodge the Money there and gradually instruct remittance to your Country. \n",
    "\n",
    "        This business is 100% risk free for you so please treat this matter with utmost confidentiality .If you indicate your interest to assist us please just e-mail me for more Explanation on how we plan to execute the transaction.\n",
    "\n",
    "        Expecting your response urgently.\n",
    "\n",
    "        Best regards,\n",
    "\n",
    "        Mr. Ben Suleman\n",
    "\n",
    "        Wed Oct 30 21:41:56 2002\n",
    "        Return-Path: <james_ngola2002@maktoob.com>\n",
    "        X-Sieve: cmu-sieve 2.0\n",
    "        Return-Path: <james_ngola2002@maktoob.com>\n",
    "        Message-Id: <200210310241.g9V2fNm6028281@cs.CU>\n",
    "        From: \"MR. JAMES NGOLA.\" <james_ngola2002@maktoob.com>\n",
    "        Reply-To: james_ngola2002@maktoob.com\n",
    "        To: webmaster@aclweb.org\n",
    "        Date: Thu, 31 Oct 2002 02:38:20 +0000\n",
    "        Subject: URGENT BUSINESS ASSISTANCE AND PARTNERSHIP\n",
    "        X-Mailer: Microsoft Outlook Express 5.00.2919.6900 DM\n",
    "        MIME-Version: 1.0\n",
    "        Content-Type: text/plain; charset=\"us-ascii\"\n",
    "        Content-Transfer-Encoding: 8bit\n",
    "        X-MIME-Autoconverted: from quoted-printable to 8bit by sideshowmel.si.UM id g9V2foW24311\n",
    "        Status: O\n",
    "\n",
    "        FROM:MR. JAMES NGOLA.\n",
    "        CONFIDENTIAL TEL: 233-27-587908.\n",
    "        E-MAIL: (james_ngola2002@maktoob.com).\n",
    "\n",
    "        URGENT BUSINESS ASSISTANCE AND PARTNERSHIP.\n",
    "\n",
    "\n",
    "        DEAR FRIEND,\n",
    "\n",
    "        I AM ( DR.) JAMES NGOLA, THE PERSONAL ASSISTANCE TO THE LATE CONGOLESE (PRESIDENT LAURENT KABILA) WHO WAS ASSASSINATED BY HIS BODY GUARD ON 16TH JAN. 2001.\n",
    "\n",
    "\n",
    "        THE INCIDENT OCCURRED IN OUR PRESENCE WHILE WE WERE HOLDING MEETING WITH HIS EXCELLENCY OVER THE FINANCIAL RETURNS FROM THE DIAMOND SALES IN THE AREAS CONTROLLED BY (D.R.C.) DEMOCRATIC REPUBLIC OF CONGO FORCES AND THEIR FOREIGN ALLIES ANGOLA AND ZIMBABWE, HAVING RECEIVED THE PREVIOUS DAY (USD$100M) ONE HUNDRED MILLION UNITED STATES DOLLARS, CASH IN THREE DIPLOMATIC BOXES ROUTED THROUGH ZIMBABWE.\n",
    "\n",
    "        MY PURPOSE OF WRITING YOU THIS LETTER IS TO SOLICIT FOR YOUR ASSISTANCE AS TO BE A COVER TO THE FUND AND ALSO COLLABORATION IN MOVING THE SAID FUND INTO YOUR BANK ACCOUNT THE SUM OF (USD$25M) TWENTY FIVE MILLION UNITED STATES DOLLARS ONLY, WHICH I DEPOSITED WITH A SECURITY COMPANY IN GHANA, IN A DIPLOMATIC BOX AS GOLDS WORTH (USD$25M) TWENTY FIVE MILLION UNITED STATES DOLLARS ONLY FOR SAFE KEEPING IN A SECURITY VAULT FOR ANY FURTHER INVESTMENT PERHAPS IN YOUR COUNTRY. \n",
    "\n",
    "        YOU WERE INTRODUCED TO ME BY A RELIABLE FRIEND OF MINE WHO IS A TRAVELLER,AND ALSO A MEMBER OF CHAMBER OF COMMERCE AS A RELIABLE AND TRUSTWORTHY PERSON WHOM I CAN RELY ON AS FOREIGN PARTNER, EVEN THOUGH THE NATURE OF THE TRANSACTION WAS NOT REVEALED TO HIM FOR SECURITY REASONS.\n",
    "\n",
    "\n",
    "        THE (USD$25M) WAS PART OF A PROCEEDS FROM DIAMOND TRADE MEANT FOR THE LATE PRESIDENT LAURENT KABILA WHICH WAS DELIVERED THROUGH ZIMBABWE IN DIPLOMATIC BOXES. THE BOXES WERE KEPT UNDER MY CUSTODY BEFORE THE SAD EVENT THAT TOOK THE LIFE OF (MR. PRESIDENT).THE CONFUSION THAT ENSUED AFTER THE ASSASSINATION AND THE SPORADIC SHOOTING AMONG THE FACTIONS, I HAVE TO RUN AWAY FROM THE COUNTRY FOR MY DEAR LIFE AS I AM NOT A SOLDIER BUT A CIVIL SERVANT I CROSSED RIVER CONGO TO OTHER SIDE OF CONGO LIBREVILLE FROM THERE I MOVED TO THE THIRD COUNTRY GHANA WHERE I AM PRESENTLY TAKING REFUGE. \n",
    "\n",
    "        AS A MATTER OF FACT, WHAT I URGENTLY NEEDED FROM YOU IS YOUR ASSISTANCE IN MOVING THIS MONEY INTO YOUR ACCOUNT IN YOUR COUNTRY FOR INVESTMENT WITHOUT RAISING EYEBROW. FOR YOUR ASSISTANCE I WILL GIVE YOU 20% OF THE TOTAL SUM AS YOUR OWN SHARE WHEN THE MONEY GETS TO YOUR ACCOUNT, WHILE 75% WILL BE FOR ME, OF WHICH WITH YOUR KIND ADVICE I HOPE TO INVEST IN PROFITABLE VENTURE IN YOUR COUNTRY IN OTHER TO SETTLE DOWN FOR MEANINGFUL LIFE, AS I AM TIRED OF LIVING IN A WAR ENVIRONMENT. \n",
    "\n",
    "        THE REMAINING 5% WILL BE USED TO OFFSET ANY COST INCURRED IN THE CAUSE OF MOVING THE MONEY TO YOUR ACCOUNT. IF THE PROPOSAL IS ACCEPTABLE TO YOU PLEASE CONTACT ME IMMEDIATELY THROUGH THE ABOVE TELEPHONE AND E-MAIL, TO ENABLE ME ARRANGE FACE TO FACE MEETING WITH YOU IN GHANA FOR THE CLEARANCE OF THE FUNDS BEFORE TRANSFRING IT TO YOUR BANK ACCOUNT AS SEEING IS BELIEVING. \n",
    "\n",
    "        FINALLY, IT IS IMPORTANT ALSO THAT I LET YOU UNDERSTAND THAT THERE IS NO RISK INVOLVED WHATSOEVER AS THE MONEY HAD NO RECORD IN KINSHASA FOR IT WAS MEANT FOR THE PERSONAL USE OF (MR. PRESIDEND ) BEFORE THE NEFARIOUS INCIDENT OCCURRED, AND ALSO I HAVE ALL THE NECESSARY DOCUMENTS AS REGARDS TO THE FUNDS INCLUDING THE (CERTIFICATE OF DEPOSIT), AS I AM THE DEPOSITOR OF THE CONSIGNMENT.\n",
    "\n",
    "\n",
    "        LOOKING FORWARD TO YOUR URGENT RESPONSE.\n",
    "\n",
    "        YOUR SINCERELY,\n",
    "\n",
    "        MR. JAMES NGOLA. ''')"
   ]
  },
  {
   "cell_type": "markdown",
   "metadata": {},
   "source": [
    "5 .En este ejercicio tendréis que crear una función que reciba el nombre del archivo xml y que devuelva lo siguiente:\n",
    "\n",
    "- Qué tag y atributos tiene el archivo xml.\n",
    "- La descripción de cada una de las películas que tenemos en ese archivo.\n",
    "- Los años en que fueron estrenadas las películas."
   ]
  },
  {
   "cell_type": "code",
   "execution_count": 21,
   "metadata": {},
   "outputs": [],
   "source": [
    "import xml.etree.ElementTree as ET"
   ]
  },
  {
   "cell_type": "code",
   "execution_count": 22,
   "metadata": {},
   "outputs": [],
   "source": [
    "tree = ET.parse('peliculas.xml')"
   ]
  },
  {
   "cell_type": "code",
   "execution_count": 23,
   "metadata": {},
   "outputs": [],
   "source": [
    "root = tree.getroot()"
   ]
  },
  {
   "cell_type": "markdown",
   "metadata": {},
   "source": [
    "¿Qué tag y atributos tiene nuestro archivo?\n"
   ]
  },
  {
   "cell_type": "code",
   "execution_count": 37,
   "metadata": {},
   "outputs": [],
   "source": [
    "\n",
    "\n",
    "\n",
    "lista_tags = []\n",
    "lista_attr = []\n",
    "for collection in root:\n",
    "    lista_attr.append(collection.attrib)\n",
    "    lista_tags.append(collection.tag)\n",
    "    lista_tags.append(root.tag)\n",
    "    for genre in collection:\n",
    "        lista_attr.append(genre.attrib)\n",
    "        lista_tags.append(genre.tag)\n",
    "        for decade in genre :\n",
    "            lista_attr.append(decade.attrib)\n",
    "            lista_tags.append(decade.tag)\n",
    "            for movie in decade:\n",
    "                lista_attr.append(movie.attrib)\n",
    "                lista_tags.append(movie.tag)\n",
    "                \n"
   ]
  },
  {
   "cell_type": "code",
   "execution_count": 38,
   "metadata": {},
   "outputs": [
    {
     "name": "stdout",
     "output_type": "stream",
     "text": [
      "[{'category': 'Action'}, {'years': '1980s'}, {'favorite': 'True', 'title': 'Indiana Jones: The raiders of the lost Ark'}, {'multiple': 'No'}, {}, {}, {}, {'favorite': 'True', 'title': 'THE KARATE KID'}, {'multiple': 'Yes'}, {}, {}, {}, {'favorite': 'False', 'title': 'Back 2 the Future'}, {'multiple': 'False'}, {}, {}, {}, {'years': '1990s'}, {'favorite': 'False', 'title': 'X-Men'}, {'multiple': 'Yes'}, {}, {}, {}, {'favorite': 'True', 'title': 'Batman Returns'}, {'multiple': 'No'}, {}, {}, {}, {'favorite': 'False', 'title': 'Reservoir Dogs'}, {'multiple': 'No'}, {}, {}, {}, {'category': 'Thriller'}, {'years': '1970s'}, {'favorite': 'False', 'title': 'ALIEN'}, {'multiple': 'Yes'}, {}, {}, {}, {'years': '1980s'}, {'favorite': 'True', 'title': \"Ferris Bueller's Day Off\"}, {'multiple': 'No'}, {}, {}, {}, {'favorite': 'FALSE', 'title': 'American Psycho'}, {'multiple': 'No'}, {}, {}, {}]\n"
     ]
    }
   ],
   "source": [
    "atributos =(lista_attr)\n",
    "print(lista_attr)"
   ]
  },
  {
   "cell_type": "code",
   "execution_count": 39,
   "metadata": {},
   "outputs": [
    {
     "name": "stdout",
     "output_type": "stream",
     "text": [
      "['genre', 'collection', 'decade', 'movie', 'format', 'year', 'rating', 'description', 'movie', 'format', 'year', 'rating', 'description', 'movie', 'format', 'year', 'rating', 'description', 'decade', 'movie', 'format', 'year', 'rating', 'description', 'movie', 'format', 'year', 'rating', 'description', 'movie', 'format', 'year', 'rating', 'description', 'genre', 'collection', 'decade', 'movie', 'format', 'year', 'rating', 'description', 'decade', 'movie', 'format', 'year', 'rating', 'description', 'movie', 'format', 'year', 'rating', 'description']\n"
     ]
    }
   ],
   "source": [
    "print(lista_tags)"
   ]
  },
  {
   "cell_type": "markdown",
   "metadata": {},
   "source": [
    "La lista contiene tags duplicados"
   ]
  },
  {
   "cell_type": "code",
   "execution_count": 40,
   "metadata": {},
   "outputs": [
    {
     "name": "stdout",
     "output_type": "stream",
     "text": [
      "{'collection', 'movie', 'description', 'format', 'rating', 'genre', 'year', 'decade'}\n"
     ]
    }
   ],
   "source": [
    "tags = set(lista_tags)\n",
    "print(tags)"
   ]
  },
  {
   "cell_type": "markdown",
   "metadata": {},
   "source": [
    "Descripción de las películas"
   ]
  },
  {
   "cell_type": "code",
   "execution_count": 34,
   "metadata": {},
   "outputs": [
    {
     "name": "stdout",
     "output_type": "stream",
     "text": [
      "La descripción es: \n",
      "                'Archaeologist and adventurer Indiana Jones \n",
      "                is hired by the U.S. government to find the Ark of  the Covenant before the Nazis.'\n",
      "                \n",
      "La descripción es: None provided.\n",
      "La descripción es: Marty McFly\n",
      "La descripción es: Two mutants come to a private academy for their kind whose resident superhero team must oppose a terrorist organization with similar powers.\n",
      "La descripción es: NA.\n",
      "La descripción es: WhAtEvER I Want!!!?!\n",
      "La descripción es: \"\"\"\"\"\"\"\"\"\n",
      "La descripción es: Funny movie on funny guy \n",
      "La descripción es: psychopathic Bateman\n"
     ]
    }
   ],
   "source": [
    "for genre in root.findall('genre'):\n",
    "    for decade in genre.findall('decade'):\n",
    "        for movie in decade.findall('movie'):\n",
    "            print(f'La descripción es:',movie.find('description').text)\n",
    "            "
   ]
  },
  {
   "cell_type": "markdown",
   "metadata": {},
   "source": [
    "Años en que fueron estrenadas"
   ]
  },
  {
   "cell_type": "code",
   "execution_count": 35,
   "metadata": {},
   "outputs": [
    {
     "name": "stdout",
     "output_type": "stream",
     "text": [
      "1981\n",
      "1984\n",
      "1985\n",
      "2000\n",
      "1992\n",
      "1992\n",
      "1979\n",
      "1986\n",
      "2000\n"
     ]
    }
   ],
   "source": [
    "\n",
    "for genre in root.findall('genre'):\n",
    "    pelis = []\n",
    "    for decade in genre.findall('decade'):\n",
    "        #print(decade.find('movie').attrib)\n",
    "        for movie in decade.findall('movie'):\n",
    "            print(movie.find('year').text)\n",
    "            \n",
    "\n",
    "            \n",
    "            \n",
    "            \n"
   ]
  },
  {
   "cell_type": "markdown",
   "metadata": {},
   "source": []
  },
  {
   "cell_type": "code",
   "execution_count": 43,
   "metadata": {},
   "outputs": [],
   "source": [
    "def encontrar_peliculas(peliculas_xml):\n",
    "    tree = ET.parse('peliculas.xml')\n",
    "    root = tree.getroot()\n",
    "    lista_tags = []\n",
    "    lista_attr = []\n",
    "    for collection in root:\n",
    "        lista_attr.append(collection.attrib)\n",
    "        lista_tags.append(collection.tag)\n",
    "        lista_tags.append(root.tag)\n",
    "        for genre in collection:\n",
    "            lista_attr.append(genre.attrib)\n",
    "            lista_tags.append(genre.tag)\n",
    "            for decade in genre :\n",
    "                lista_attr.append(decade.attrib)\n",
    "                lista_tags.append(decade.tag)\n",
    "                for movie in decade:\n",
    "                    lista_attr.append(movie.attrib)\n",
    "                    lista_tags.append(movie.tag)\n",
    "                    \n",
    "    return atributos,tags"
   ]
  }
 ],
 "metadata": {
  "kernelspec": {
   "display_name": "Python 3.9.7 ('base')",
   "language": "python",
   "name": "python3"
  },
  "language_info": {
   "codemirror_mode": {
    "name": "ipython",
    "version": 3
   },
   "file_extension": ".py",
   "mimetype": "text/x-python",
   "name": "python",
   "nbconvert_exporter": "python",
   "pygments_lexer": "ipython3",
   "version": "3.9.7"
  },
  "orig_nbformat": 4,
  "vscode": {
   "interpreter": {
    "hash": "4b1ecc98482ac3f78e7638a36d488665c227c7cb0420745d3c03f1c165a0d66a"
   }
  }
 },
 "nbformat": 4,
 "nbformat_minor": 2
}
