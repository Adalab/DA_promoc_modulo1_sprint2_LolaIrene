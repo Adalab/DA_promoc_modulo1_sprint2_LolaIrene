{
 "cells": [
  {
   "cell_type": "markdown",
   "metadata": {},
   "source": [
    "Esta función debe incluir el código que:\n",
    "\n",
    "1.Nos muestre en que carpeta estamos trabajando.\n",
    "\n",
    "2.Cree una carpeta que se llame \"aprendiendo-ficheros\". ⚠️ Tened en cuenta que si la carpeta ya existe no la podemos crear, nos devolverá un error. Incluye en la función un programa que evite que nos de un error si la carpeta ya existe.\n",
    "\n",
    "3.Cree otra carpeta que se llame \"datos\" dentro de la carpeta \"aprendiendo-ficheros\". En esta carpeta \"datos\" guardaremos el fichero \"saludo.txt\" que os habéis descargado.\n",
    "\n",
    "4.Cambiad el directorio de trabajo a la carpeta \"datos\". Antes de seguir chequead que estáis trabajando en la carpeta \"datos\".\n",
    "\n",
    "5.Cambiad el nombre de la carpeta creada en el punto 2 a \"primera-toma-contacto\"\n"
   ]
  },
  {
   "cell_type": "code",
   "execution_count": null,
   "metadata": {},
   "outputs": [],
   "source": [
    "import os"
   ]
  },
  {
   "cell_type": "code",
   "execution_count": null,
   "metadata": {},
   "outputs": [],
   "source": []
  },
  {
   "cell_type": "code",
   "execution_count": null,
   "metadata": {},
   "outputs": [],
   "source": [
    "os.mkdir( \"aprendiendo-ficheros\")"
   ]
  },
  {
   "cell_type": "code",
   "execution_count": null,
   "metadata": {},
   "outputs": [],
   "source": [
    "#1\n",
    "os.getcwd()"
   ]
  },
  {
   "cell_type": "code",
   "execution_count": null,
   "metadata": {},
   "outputs": [],
   "source": [
    "os.mkdir('aprendiendo-ficheros/datos')\n",
    "pass\n",
    "import shutil\n",
    "shutil.move('saludo.txt','aprendiendo-ficheros/datos')\n",
    "import shutil\n",
    "import os\n",
    " "
   ]
  },
  {
   "cell_type": "code",
   "execution_count": null,
   "metadata": {},
   "outputs": [],
   "source": [
    "os.listdir()"
   ]
  },
  {
   "cell_type": "code",
   "execution_count": null,
   "metadata": {},
   "outputs": [],
   "source": [
    "#2\n",
    "os.listdir('aprendiendo-ficheros')"
   ]
  },
  {
   "cell_type": "code",
   "execution_count": null,
   "metadata": {},
   "outputs": [],
   "source": [
    "os.chdir('aprendiendo-ficheros')"
   ]
  },
  {
   "cell_type": "code",
   "execution_count": null,
   "metadata": {},
   "outputs": [],
   "source": [
    "os.getcwd()"
   ]
  },
  {
   "cell_type": "code",
   "execution_count": null,
   "metadata": {},
   "outputs": [],
   "source": [
    "#3 \n",
    "os.chdir('datos')"
   ]
  },
  {
   "cell_type": "code",
   "execution_count": null,
   "metadata": {},
   "outputs": [],
   "source": [
    "os.getcwd()"
   ]
  },
  {
   "cell_type": "code",
   "execution_count": null,
   "metadata": {},
   "outputs": [],
   "source": [
    "#4 \n",
    "os.chdir('../')"
   ]
  },
  {
   "cell_type": "code",
   "execution_count": null,
   "metadata": {},
   "outputs": [],
   "source": [
    "os.getcwd"
   ]
  },
  {
   "cell_type": "markdown",
   "metadata": {},
   "source": [
    "5 No hace el rename "
   ]
  },
  {
   "cell_type": "code",
   "execution_count": null,
   "metadata": {},
   "outputs": [],
   "source": [
    "os.rename(\"aprendiendo-ficheros\",\"primera-toma-contacto\")"
   ]
  },
  {
   "cell_type": "code",
   "execution_count": null,
   "metadata": {},
   "outputs": [],
   "source": [
    "ruta_aprendiendo_ficheros =('/mnt/c/Users/Lola/Desktop/Adalab/pair programming/DA-promoC-modulo1-spring2-IreneLola/DA_promoc_modulo1_sprint2_LolaIrene/python/aprendiendo-ficheros')\n",
    "ruta_primera_toma_contacto =('/mnt/c/Users/Lola/Desktop/Adalab/pair programming/DA-promoC-modulo1-spring2-IreneLola/DA_promoc_modulo1_sprint2_LolaIrene/python/primera-toma-contacto')"
   ]
  },
  {
   "cell_type": "code",
   "execution_count": null,
   "metadata": {},
   "outputs": [],
   "source": [
    "os.rename(ruta_aprendiendo_ficheros,ruta_primera_toma_contacto)"
   ]
  },
  {
   "cell_type": "markdown",
   "metadata": {},
   "source": [
    "Esta función debe incluir el código que:"
   ]
  },
  {
   "cell_type": "code",
   "execution_count": 1,
   "metadata": {},
   "outputs": [],
   "source": [
    "import os"
   ]
  },
  {
   "cell_type": "code",
   "execution_count": 5,
   "metadata": {},
   "outputs": [],
   "source": [
    "def cambiar_carpeta(nombre_primera_carpeta,nombre_segunda_carpeta,nuevo_nombre):\n",
    "    print(os.getcwd())\n",
    "    if nombre_primera_carpeta in os.listdir():\n",
    "        print('El fichero ya existe')\n",
    "    else : \n",
    "        os.mkdir(nombre_primera_carpeta)\n",
    "        print(f'La carpeta {nombre_primera_carpeta} se ha creado')\n",
    "        os.chdir(nombre_primera_carpeta)\n",
    "        os.mkdir(nombre_segunda_carpeta)\n",
    "        os.chdir(nombre_segunda_carpeta)\n",
    "        print(os.getcwd())\n",
    "        os.chdir(\"../../\")\n",
    "        os.rename(nombre_primera_carpeta, nuevo_nombre)"
   ]
  },
  {
   "cell_type": "code",
   "execution_count": 6,
   "metadata": {},
   "outputs": [
    {
     "name": "stdout",
     "output_type": "stream",
     "text": [
      "/mnt/c/Users/irene/Documents/Adalab/modulo_2/sprint_pairprogramming/DA_promoc_modulo1_sprint2_LolaIrene/python\n",
      "El fichero ya existe\n"
     ]
    }
   ],
   "source": [
    "cambiar_carpeta(\"aprendiendo_ficheros\", \"datos\", \"primera_toma_contacto\")"
   ]
  },
  {
   "cell_type": "markdown",
   "metadata": {},
   "source": [
    "Segunda función"
   ]
  },
  {
   "cell_type": "code",
   "execution_count": null,
   "metadata": {},
   "outputs": [],
   "source": [
    "#1\n",
    "f = open('/mnt/c/Users/Lola/Desktop/Adalab/pair programming/DA-promoC-modulo1-spring2-IreneLola/DA_promoc_modulo1_sprint2_LolaIrene/python/aprendiendo-ficheros/datos/saludo.txt')\n",
    "linea = f.readlines()\n",
    "print(linea)"
   ]
  },
  {
   "cell_type": "code",
   "execution_count": null,
   "metadata": {},
   "outputs": [],
   "source": [
    "#2 \n",
    "print(linea[4])"
   ]
  },
  {
   "cell_type": "code",
   "execution_count": null,
   "metadata": {},
   "outputs": [],
   "source": [
    "#1 segunda función\n",
    "os.getcwd()"
   ]
  },
  {
   "cell_type": "code",
   "execution_count": null,
   "metadata": {},
   "outputs": [],
   "source": [
    "#2 \n",
    "ruta = input('Donde está el archivo?') \n",
    "ruta_datos ='aprendiendo-ficheros/datos'"
   ]
  },
  {
   "cell_type": "code",
   "execution_count": null,
   "metadata": {},
   "outputs": [],
   "source": [
    "os.listdir()"
   ]
  },
  {
   "cell_type": "code",
   "execution_count": 7,
   "metadata": {},
   "outputs": [
    {
     "data": {
      "text/plain": [
       "'/mnt/c/Users/irene/Documents/Adalab/modulo_2/sprint_pairprogramming/DA_promoc_modulo1_sprint2_LolaIrene/python'"
      ]
     },
     "execution_count": 7,
     "metadata": {},
     "output_type": "execute_result"
    }
   ],
   "source": [
    "os.getcwd()"
   ]
  },
  {
   "cell_type": "code",
   "execution_count": null,
   "metadata": {},
   "outputs": [],
   "source": [
    "input('Donde está el archivo?')\n",
    "if os.getcwd() not in ruta_datos:\n",
    "    os.chdir(ruta_datos)\n",
    "    os.listdir()\n",
    "else: \n",
    "    f = open('aprendiendo-ficheros/datos/saludo.txt')\n",
    "    linea = f.readlines()\n",
    "    print(linea[4])    "
   ]
  },
  {
   "cell_type": "code",
   "execution_count": null,
   "metadata": {},
   "outputs": [],
   "source": [
    "# por si hace falta \n",
    "file_source = 'aprendiendo-ficheros/datos/saludo'\n",
    "file_destination = 'Path/Of/Directory'\n",
    " \n",
    "get_files = os.listdir(file_source)\n",
    " \n",
    "for g in get_files:\n",
    "    shutil.move(file_source + g, file_destination)\n"
   ]
  }
 ],
 "metadata": {
  "kernelspec": {
   "display_name": "Python 3.9.12 ('base')",
   "language": "python",
   "name": "python3"
  },
  "language_info": {
   "codemirror_mode": {
    "name": "ipython",
    "version": 3
   },
   "file_extension": ".py",
   "mimetype": "text/x-python",
   "name": "python",
   "nbconvert_exporter": "python",
   "pygments_lexer": "ipython3",
   "version": "3.9.12"
  },
  "orig_nbformat": 4,
  "vscode": {
   "interpreter": {
    "hash": "9429f26ec4099974d746a4ebde46a1e9e674ac91dbe378d9f92f91a367d774ad"
   }
  }
 },
 "nbformat": 4,
 "nbformat_minor": 2
}
