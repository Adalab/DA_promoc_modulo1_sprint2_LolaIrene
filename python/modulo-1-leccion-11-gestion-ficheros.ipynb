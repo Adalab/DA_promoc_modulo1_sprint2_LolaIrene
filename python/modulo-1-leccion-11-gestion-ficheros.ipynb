{
 "cells": [
  {
   "cell_type": "markdown",
   "metadata": {},
   "source": [
    "Esta función debe incluir el código que:\n",
    "\n",
    "1.Nos muestre en que carpeta estamos trabajando.\n",
    "\n",
    "2.Cree una carpeta que se llame \"aprendiendo-ficheros\". ⚠️ Tened en cuenta que si la carpeta ya existe no la podemos crear, nos devolverá un error. Incluye en la función un programa que evite que nos de un error si la carpeta ya existe.\n",
    "\n",
    "3.Cree otra carpeta que se llame \"datos\" dentro de la carpeta \"aprendiendo-ficheros\". En esta carpeta \"datos\" guardaremos el fichero \"saludo.txt\" que os habéis descargado.\n",
    "\n",
    "4.Cambiad el directorio de trabajo a la carpeta \"datos\". Antes de seguir chequead que estáis trabajando en la carpeta \"datos\".\n",
    "\n",
    "5.Cambiad el nombre de la carpeta creada en el punto 2 a \"primera-toma-contacto\"\n"
   ]
  },
  {
   "cell_type": "code",
   "execution_count": 1,
   "metadata": {},
   "outputs": [],
   "source": [
    "import os"
   ]
  },
  {
   "cell_type": "code",
   "execution_count": null,
   "metadata": {},
   "outputs": [],
   "source": [
    "os.listdir()"
   ]
  },
  {
   "cell_type": "markdown",
   "metadata": {},
   "source": [
    "5 No hace el rename "
   ]
  },
  {
   "cell_type": "code",
   "execution_count": null,
   "metadata": {},
   "outputs": [],
   "source": [
    "ruta_aprendiendo_ficheros =('/mnt/c/Users/Lola/Desktop/Adalab/pair programming/DA-promoC-modulo1-spring2-IreneLola/DA_promoc_modulo1_sprint2_LolaIrene/python/aprendiendo-ficheros')\n",
    "ruta_primera_toma_contacto =('/mnt/c/Users/Lola/Desktop/Adalab/pair programming/DA-promoC-modulo1-spring2-IreneLola/DA_promoc_modulo1_sprint2_LolaIrene/python/primera-toma-contacto')"
   ]
  },
  {
   "cell_type": "code",
   "execution_count": 6,
   "metadata": {},
   "outputs": [],
   "source": [
    "import os"
   ]
  },
  {
   "cell_type": "code",
   "execution_count": 2,
   "metadata": {},
   "outputs": [],
   "source": [
    "def cambiar_carpeta(nombre_primera_carpeta,nombre_segunda_carpeta,nuevo_nombre):\n",
    "    print(os.getcwd())\n",
    "    if nombre_primera_carpeta in os.listdir():\n",
    "        print('El fichero ya existe')\n",
    "    else : \n",
    "        os.mkdir(nombre_primera_carpeta)\n",
    "        print(f'La carpeta {nombre_primera_carpeta} se ha creado')\n",
    "        os.chdir(nombre_primera_carpeta)\n",
    "        os.mkdir(nombre_segunda_carpeta)\n",
    "        os.chdir(nombre_segunda_carpeta)\n",
    "        print(os.getcwd())\n",
    "        os.chdir(\"../../\")\n",
    "        os.rename(nombre_primera_carpeta, nuevo_nombre)"
   ]
  },
  {
   "cell_type": "code",
   "execution_count": 3,
   "metadata": {},
   "outputs": [
    {
     "name": "stdout",
     "output_type": "stream",
     "text": [
      "/mnt/c/Users/Lola/Desktop/Adalab/pair programming/DA-promoC-modulo1-spring2-IreneLola/DA_promoc_modulo1_sprint2_LolaIrene/python\n",
      "La carpeta aprendiendo_ficheros se ha creado\n",
      "/mnt/c/Users/Lola/Desktop/Adalab/pair programming/DA-promoC-modulo1-spring2-IreneLola/DA_promoc_modulo1_sprint2_LolaIrene/python/aprendiendo_ficheros/datos\n"
     ]
    }
   ],
   "source": [
    "cambiar_carpeta(\"aprendiendo_ficheros\", \"datos\", \"primera_toma_contacto\")"
   ]
  },
  {
   "cell_type": "markdown",
   "metadata": {},
   "source": [
    "Segunda función"
   ]
  },
  {
   "cell_type": "code",
   "execution_count": 32,
   "metadata": {},
   "outputs": [],
   "source": [
    "#2 \n",
    "\n",
    "ruta_datos ='/mnt/c/Users/Lola/Desktop/Adalab/pair programming/DA-promoC-modulo1-spring2-IreneLola/DA_promoc_modulo1_sprint2_LolaIrene/python/primera_toma_contacto/datos'"
   ]
  },
  {
   "cell_type": "code",
   "execution_count": 20,
   "metadata": {},
   "outputs": [
    {
     "data": {
      "text/plain": [
       "'/mnt/c/Users/Lola/Desktop/Adalab/pair programming/DA-promoC-modulo1-spring2-IreneLola/DA_promoc_modulo1_sprint2_LolaIrene/python/primera_toma_contacto/datos'"
      ]
     },
     "execution_count": 20,
     "metadata": {},
     "output_type": "execute_result"
    }
   ],
   "source": [
    "os.getcwd()"
   ]
  },
  {
   "cell_type": "code",
   "execution_count": 33,
   "metadata": {},
   "outputs": [
    {
     "name": "stdout",
     "output_type": "stream",
     "text": [
      "Esto esta siendo suuuper divertidooooo\n"
     ]
    }
   ],
   "source": [
    "input('Donde está el archivo?')\n",
    "if os.getcwd() not in ruta_datos:\n",
    "    os.chdir(ruta_datos)\n",
    "    f = open('/mnt/c/Users/Lola/Desktop/Adalab/pair programming/DA-promoC-modulo1-spring2-IreneLola/DA_promoc_modulo1_sprint2_LolaIrene/python/primera_toma_contacto/datos/saludo.txt')\n",
    "    linea = f.readlines()\n",
    "    print(linea[4])    \n",
    "else: \n",
    "    f = open('/mnt/c/Users/Lola/Desktop/Adalab/pair programming/DA-promoC-modulo1-spring2-IreneLola/DA_promoc_modulo1_sprint2_LolaIrene/python/primera_toma_contacto/datos/saludo.txt')\n",
    "    linea = f.readlines()\n",
    "    print(linea[4])    "
   ]
  },
  {
   "cell_type": "code",
   "execution_count": 38,
   "metadata": {},
   "outputs": [],
   "source": [
    "def lectura_escritura(nombre_fichero,lectura,encoding,contenido): \n",
    "    if nombre_fichero in os.listdir():\n",
    "        pregunta=input('Quieres sobreescribirlo? Escribe s/n')\n",
    "        if pregunta == 's':\n",
    "            with open(nombre_fichero,'w') as f:\n",
    "               f.write(contenido)\n",
    "               f.read()\n",
    "               f.close()\n",
    "              \n",
    "    else:\n",
    "        with open(nombre_fichero,'x') as f:\n",
    "               f.write(contenido)\n",
    "               f.read()\n",
    "               f.close()\n",
    "\n",
    "\n",
    "            "
   ]
  },
  {
   "cell_type": "code",
   "execution_count": 39,
   "metadata": {},
   "outputs": [
    {
     "ename": "UnsupportedOperation",
     "evalue": "not readable",
     "output_type": "error",
     "traceback": [
      "\u001b[0;31m---------------------------------------------------------------------------\u001b[0m",
      "\u001b[0;31mUnsupportedOperation\u001b[0m                      Traceback (most recent call last)",
      "\u001b[0;32m/tmp/ipykernel_904/3342043096.py\u001b[0m in \u001b[0;36m<module>\u001b[0;34m\u001b[0m\n\u001b[0;32m----> 1\u001b[0;31m lectura_escritura('texto','r','utf-8','''El contenido que tenéis que insertar es: \n\u001b[0m\u001b[1;32m      2\u001b[0m \u001b[0;34m\u001b[0m\u001b[0m\n\u001b[1;32m      3\u001b[0m       \u001b[0mThu\u001b[0m \u001b[0mOct\u001b[0m \u001b[0;36m31\u001b[0m \u001b[0;36m0\u001b[0m\u001b[0;36m8\u001b[0m\u001b[0;34m:\u001b[0m\u001b[0;36m11\u001b[0m\u001b[0;34m:\u001b[0m\u001b[0;36m39\u001b[0m \u001b[0;36m2002\u001b[0m\u001b[0;34m\u001b[0m\u001b[0;34m\u001b[0m\u001b[0m\n\u001b[1;32m      4\u001b[0m         \u001b[0mReturn\u001b[0m\u001b[0;34m-\u001b[0m\u001b[0mPath\u001b[0m\u001b[0;34m:\u001b[0m \u001b[0;34m<\u001b[0m\u001b[0mbensul2004nng\u001b[0m\u001b[0;34m@\u001b[0m\u001b[0mspinfinder\u001b[0m\u001b[0;34m.\u001b[0m\u001b[0mcom\u001b[0m\u001b[0;34m>\u001b[0m\u001b[0;34m\u001b[0m\u001b[0;34m\u001b[0m\u001b[0m\n\u001b[1;32m      5\u001b[0m         \u001b[0mX\u001b[0m\u001b[0;34m-\u001b[0m\u001b[0mSieve\u001b[0m\u001b[0;34m:\u001b[0m \u001b[0mcmu\u001b[0m\u001b[0;34m-\u001b[0m\u001b[0msieve\u001b[0m \u001b[0;36m2.0\u001b[0m\u001b[0;34m\u001b[0m\u001b[0;34m\u001b[0m\u001b[0m\n",
      "\u001b[0;32m/tmp/ipykernel_904/710159835.py\u001b[0m in \u001b[0;36mlectura_escritura\u001b[0;34m(nombre_fichero, lectura, encoding, contenido)\u001b[0m\n\u001b[1;32m     11\u001b[0m         \u001b[0;32mwith\u001b[0m \u001b[0mopen\u001b[0m\u001b[0;34m(\u001b[0m\u001b[0mnombre_fichero\u001b[0m\u001b[0;34m,\u001b[0m\u001b[0;34m'x'\u001b[0m\u001b[0;34m)\u001b[0m \u001b[0;32mas\u001b[0m \u001b[0mf\u001b[0m\u001b[0;34m:\u001b[0m\u001b[0;34m\u001b[0m\u001b[0;34m\u001b[0m\u001b[0m\n\u001b[1;32m     12\u001b[0m                \u001b[0mf\u001b[0m\u001b[0;34m.\u001b[0m\u001b[0mwrite\u001b[0m\u001b[0;34m(\u001b[0m\u001b[0mcontenido\u001b[0m\u001b[0;34m)\u001b[0m\u001b[0;34m\u001b[0m\u001b[0;34m\u001b[0m\u001b[0m\n\u001b[0;32m---> 13\u001b[0;31m                \u001b[0mf\u001b[0m\u001b[0;34m.\u001b[0m\u001b[0mread\u001b[0m\u001b[0;34m(\u001b[0m\u001b[0;34m)\u001b[0m\u001b[0;34m\u001b[0m\u001b[0;34m\u001b[0m\u001b[0m\n\u001b[0m\u001b[1;32m     14\u001b[0m                \u001b[0mf\u001b[0m\u001b[0;34m.\u001b[0m\u001b[0mclose\u001b[0m\u001b[0;34m(\u001b[0m\u001b[0;34m)\u001b[0m\u001b[0;34m\u001b[0m\u001b[0;34m\u001b[0m\u001b[0m\n\u001b[1;32m     15\u001b[0m \u001b[0;34m\u001b[0m\u001b[0m\n",
      "\u001b[0;31mUnsupportedOperation\u001b[0m: not readable"
     ]
    }
   ],
   "source": [
    "lectura_escritura('texto','r','utf-8','''El contenido que tenéis que insertar es: \n",
    "\n",
    "      Thu Oct 31 08:11:39 2002\n",
    "        Return-Path: <bensul2004nng@spinfinder.com>\n",
    "        X-Sieve: cmu-sieve 2.0\n",
    "        Return-Path: <bensul2004nng@spinfinder.com>\n",
    "        Message-Id: <200210311310.g9VDANt24674@bloodwork.mr.itd.UM>\n",
    "        From: \"Mr. Ben Suleman\" <bensul2004nng@spinfinder.com>\n",
    "        Date: Thu, 31 Oct 2002 05:10:00\n",
    "        To: R@M\n",
    "        Subject: URGENT ASSISTANCE /RELATIONSHIP (P)\n",
    "        MIME-Version: 1.0\n",
    "        Content-Type: text/plain;charset=\"iso-8859-1\"\n",
    "        Content-Transfer-Encoding: 7bit\n",
    "        Status: O\n",
    "\n",
    "        Dear Friend,\n",
    "\n",
    "        I am Mr. Ben Suleman a custom officer and work as Assistant controller of the Customs and Excise department Of the Federal Ministry of Internal Affairs stationed at the Murtala Mohammed International Airport, Ikeja, Lagos-Nigeria.\n",
    "\n",
    "        After the sudden death of the former Head of state of Nigeria General Sanni Abacha on June 8th 1998 his aides and immediate members of his family were arrested while trying to escape from Nigeria in a Chartered jet to Saudi Arabia with 6 trunk boxes Marked \"Diplomatic Baggage\". Acting on a tip-off as they attempted to board the Air Craft,my officials carried out a thorough search on the air craft and discovered that the 6 trunk boxes contained foreign currencies amounting to US$197,570,000.00(One Hundred and  Ninety-Seven Million Five Hundred Seventy Thousand United States Dollars).\n",
    "\n",
    "        I declared only (5) five boxes to the government and withheld one (1) in my custody containing the sum of (US$30,000,000.00) Thirty Million United States Dollars Only, which has been disguised to prevent their being discovered during transportation process.Due to several media reports on the late head of state about all the money him and his co-government officials stole from our government treasury amounting\n",
    "        to US$55 Billion Dollars (ref:ngrguardiannews.com) of July 2nd 1999. Even the London times of July 1998 reported that General Abacha has over US$3.Billion dollars in one account overseas. We decided to conceal this one (1)box till the situation is calm and quite on the issue. The box was thus deposited with a security company here in Nigeria and tagged as \"Precious Stones and Jewellry\" in other that its\n",
    "        content will not be discovered. Now that all is calm, we (myself and two of my colleagues in the operations team) are now ready to move this box out of the country through a diplomatic arrangement which is the safest means. \n",
    "\n",
    "        However as government officials the Civil Service Code of Conduct does not allow us by law to operate any foreign account or own foreign investment and the amount of money that can be found in our account\n",
    "        cannot be more than our salary on the average, thus our handicapp and our need for your assistance to help collect and keep safely in your account this money.\n",
    "\n",
    "        Therefore we want you to assist us in moving this money out of Nigeria. We shall definitely compensate you handsomely for the assistance. We can do this by instructing the Security Company here in Nigeria to\n",
    "        move the consignment to their affiliate branch office outside Nigeria through diplomatic means and the consignment will be termed as Precious Stones and Jewelleries\" which you bought during your visit to Nigeria and is being transfered to your country from here for safe keeping. Then we can arrange to meet at the destination country to take the delivery of the consignment. You will thereafter open an account there and lodge the Money there and gradually instruct remittance to your Country. \n",
    "\n",
    "        This business is 100% risk free for you so please treat this matter with utmost confidentiality .If you indicate your interest to assist us please just e-mail me for more Explanation on how we plan to execute the transaction.\n",
    "\n",
    "        Expecting your response urgently.\n",
    "\n",
    "        Best regards,\n",
    "\n",
    "        Mr. Ben Suleman\n",
    "\n",
    "        Wed Oct 30 21:41:56 2002\n",
    "        Return-Path: <james_ngola2002@maktoob.com>\n",
    "        X-Sieve: cmu-sieve 2.0\n",
    "        Return-Path: <james_ngola2002@maktoob.com>\n",
    "        Message-Id: <200210310241.g9V2fNm6028281@cs.CU>\n",
    "        From: \"MR. JAMES NGOLA.\" <james_ngola2002@maktoob.com>\n",
    "        Reply-To: james_ngola2002@maktoob.com\n",
    "        To: webmaster@aclweb.org\n",
    "        Date: Thu, 31 Oct 2002 02:38:20 +0000\n",
    "        Subject: URGENT BUSINESS ASSISTANCE AND PARTNERSHIP\n",
    "        X-Mailer: Microsoft Outlook Express 5.00.2919.6900 DM\n",
    "        MIME-Version: 1.0\n",
    "        Content-Type: text/plain; charset=\"us-ascii\"\n",
    "        Content-Transfer-Encoding: 8bit\n",
    "        X-MIME-Autoconverted: from quoted-printable to 8bit by sideshowmel.si.UM id g9V2foW24311\n",
    "        Status: O\n",
    "\n",
    "        FROM:MR. JAMES NGOLA.\n",
    "        CONFIDENTIAL TEL: 233-27-587908.\n",
    "        E-MAIL: (james_ngola2002@maktoob.com).\n",
    "\n",
    "        URGENT BUSINESS ASSISTANCE AND PARTNERSHIP.\n",
    "\n",
    "\n",
    "        DEAR FRIEND,\n",
    "\n",
    "        I AM ( DR.) JAMES NGOLA, THE PERSONAL ASSISTANCE TO THE LATE CONGOLESE (PRESIDENT LAURENT KABILA) WHO WAS ASSASSINATED BY HIS BODY GUARD ON 16TH JAN. 2001.\n",
    "\n",
    "\n",
    "        THE INCIDENT OCCURRED IN OUR PRESENCE WHILE WE WERE HOLDING MEETING WITH HIS EXCELLENCY OVER THE FINANCIAL RETURNS FROM THE DIAMOND SALES IN THE AREAS CONTROLLED BY (D.R.C.) DEMOCRATIC REPUBLIC OF CONGO FORCES AND THEIR FOREIGN ALLIES ANGOLA AND ZIMBABWE, HAVING RECEIVED THE PREVIOUS DAY (USD$100M) ONE HUNDRED MILLION UNITED STATES DOLLARS, CASH IN THREE DIPLOMATIC BOXES ROUTED THROUGH ZIMBABWE.\n",
    "\n",
    "        MY PURPOSE OF WRITING YOU THIS LETTER IS TO SOLICIT FOR YOUR ASSISTANCE AS TO BE A COVER TO THE FUND AND ALSO COLLABORATION IN MOVING THE SAID FUND INTO YOUR BANK ACCOUNT THE SUM OF (USD$25M) TWENTY FIVE MILLION UNITED STATES DOLLARS ONLY, WHICH I DEPOSITED WITH A SECURITY COMPANY IN GHANA, IN A DIPLOMATIC BOX AS GOLDS WORTH (USD$25M) TWENTY FIVE MILLION UNITED STATES DOLLARS ONLY FOR SAFE KEEPING IN A SECURITY VAULT FOR ANY FURTHER INVESTMENT PERHAPS IN YOUR COUNTRY. \n",
    "\n",
    "        YOU WERE INTRODUCED TO ME BY A RELIABLE FRIEND OF MINE WHO IS A TRAVELLER,AND ALSO A MEMBER OF CHAMBER OF COMMERCE AS A RELIABLE AND TRUSTWORTHY PERSON WHOM I CAN RELY ON AS FOREIGN PARTNER, EVEN THOUGH THE NATURE OF THE TRANSACTION WAS NOT REVEALED TO HIM FOR SECURITY REASONS.\n",
    "\n",
    "\n",
    "        THE (USD$25M) WAS PART OF A PROCEEDS FROM DIAMOND TRADE MEANT FOR THE LATE PRESIDENT LAURENT KABILA WHICH WAS DELIVERED THROUGH ZIMBABWE IN DIPLOMATIC BOXES. THE BOXES WERE KEPT UNDER MY CUSTODY BEFORE THE SAD EVENT THAT TOOK THE LIFE OF (MR. PRESIDENT).THE CONFUSION THAT ENSUED AFTER THE ASSASSINATION AND THE SPORADIC SHOOTING AMONG THE FACTIONS, I HAVE TO RUN AWAY FROM THE COUNTRY FOR MY DEAR LIFE AS I AM NOT A SOLDIER BUT A CIVIL SERVANT I CROSSED RIVER CONGO TO OTHER SIDE OF CONGO LIBREVILLE FROM THERE I MOVED TO THE THIRD COUNTRY GHANA WHERE I AM PRESENTLY TAKING REFUGE. \n",
    "\n",
    "        AS A MATTER OF FACT, WHAT I URGENTLY NEEDED FROM YOU IS YOUR ASSISTANCE IN MOVING THIS MONEY INTO YOUR ACCOUNT IN YOUR COUNTRY FOR INVESTMENT WITHOUT RAISING EYEBROW. FOR YOUR ASSISTANCE I WILL GIVE YOU 20% OF THE TOTAL SUM AS YOUR OWN SHARE WHEN THE MONEY GETS TO YOUR ACCOUNT, WHILE 75% WILL BE FOR ME, OF WHICH WITH YOUR KIND ADVICE I HOPE TO INVEST IN PROFITABLE VENTURE IN YOUR COUNTRY IN OTHER TO SETTLE DOWN FOR MEANINGFUL LIFE, AS I AM TIRED OF LIVING IN A WAR ENVIRONMENT. \n",
    "\n",
    "        THE REMAINING 5% WILL BE USED TO OFFSET ANY COST INCURRED IN THE CAUSE OF MOVING THE MONEY TO YOUR ACCOUNT. IF THE PROPOSAL IS ACCEPTABLE TO YOU PLEASE CONTACT ME IMMEDIATELY THROUGH THE ABOVE TELEPHONE AND E-MAIL, TO ENABLE ME ARRANGE FACE TO FACE MEETING WITH YOU IN GHANA FOR THE CLEARANCE OF THE FUNDS BEFORE TRANSFRING IT TO YOUR BANK ACCOUNT AS SEEING IS BELIEVING. \n",
    "\n",
    "        FINALLY, IT IS IMPORTANT ALSO THAT I LET YOU UNDERSTAND THAT THERE IS NO RISK INVOLVED WHATSOEVER AS THE MONEY HAD NO RECORD IN KINSHASA FOR IT WAS MEANT FOR THE PERSONAL USE OF (MR. PRESIDEND ) BEFORE THE NEFARIOUS INCIDENT OCCURRED, AND ALSO I HAVE ALL THE NECESSARY DOCUMENTS AS REGARDS TO THE FUNDS INCLUDING THE (CERTIFICATE OF DEPOSIT), AS I AM THE DEPOSITOR OF THE CONSIGNMENT.\n",
    "\n",
    "\n",
    "        LOOKING FORWARD TO YOUR URGENT RESPONSE.\n",
    "\n",
    "        YOUR SINCERELY,\n",
    "\n",
    "        MR. JAMES NGOLA. ''')"
   ]
  },
  {
   "cell_type": "code",
   "execution_count": null,
   "metadata": {},
   "outputs": [],
   "source": [
    "lectura_escritura('saludo.txt',)"
   ]
  },
  {
   "cell_type": "markdown",
   "metadata": {},
   "source": []
  },
  {
   "cell_type": "code",
   "execution_count": 40,
   "metadata": {},
   "outputs": [],
   "source": [
    "import xml.etree.ElementTree as ET"
   ]
  },
  {
   "cell_type": "code",
   "execution_count": 41,
   "metadata": {},
   "outputs": [],
   "source": [
    "tree = ET.parse('peliculas.xml')"
   ]
  },
  {
   "cell_type": "code",
   "execution_count": 42,
   "metadata": {},
   "outputs": [],
   "source": [
    "root = tree.getroot()"
   ]
  },
  {
   "cell_type": "code",
   "execution_count": 43,
   "metadata": {},
   "outputs": [
    {
     "name": "stdout",
     "output_type": "stream",
     "text": [
      "collection\n"
     ]
    }
   ],
   "source": [
    "print(root.tag)"
   ]
  },
  {
   "cell_type": "code",
   "execution_count": 44,
   "metadata": {},
   "outputs": [
    {
     "name": "stdout",
     "output_type": "stream",
     "text": [
      "{}\n"
     ]
    }
   ],
   "source": [
    "print(root.attrib)"
   ]
  },
  {
   "cell_type": "code",
   "execution_count": null,
   "metadata": {},
   "outputs": [],
   "source": []
  },
  {
   "cell_type": "code",
   "execution_count": 27,
   "metadata": {},
   "outputs": [
    {
     "name": "stdout",
     "output_type": "stream",
     "text": [
      "genre es un tag hijo de <Element 'collection' at 0x7f570d71e040> y {'category': 'Action'} es un atributo\n",
      "decade es un tag y {'years': '1980s'} es un atributo\n",
      "movie es un tag y {'favorite': 'True', 'title': 'Indiana Jones: The raiders of the lost Ark'} es un atributo\n",
      "format es un tag y {'multiple': 'No'} es un atributo\n",
      "year es un tag y {} es un atributo\n",
      "rating es un tag y {} es un atributo\n",
      "description es un tag y {} es un atributo\n",
      "movie es un tag y {'favorite': 'True', 'title': 'THE KARATE KID'} es un atributo\n",
      "format es un tag y {'multiple': 'Yes'} es un atributo\n",
      "year es un tag y {} es un atributo\n",
      "rating es un tag y {} es un atributo\n",
      "description es un tag y {} es un atributo\n",
      "movie es un tag y {'favorite': 'False', 'title': 'Back 2 the Future'} es un atributo\n",
      "format es un tag y {'multiple': 'False'} es un atributo\n",
      "year es un tag y {} es un atributo\n",
      "rating es un tag y {} es un atributo\n",
      "description es un tag y {} es un atributo\n",
      "decade es un tag y {'years': '1990s'} es un atributo\n",
      "movie es un tag y {'favorite': 'False', 'title': 'X-Men'} es un atributo\n",
      "format es un tag y {'multiple': 'Yes'} es un atributo\n",
      "year es un tag y {} es un atributo\n",
      "rating es un tag y {} es un atributo\n",
      "description es un tag y {} es un atributo\n",
      "movie es un tag y {'favorite': 'True', 'title': 'Batman Returns'} es un atributo\n",
      "format es un tag y {'multiple': 'No'} es un atributo\n",
      "year es un tag y {} es un atributo\n",
      "rating es un tag y {} es un atributo\n",
      "description es un tag y {} es un atributo\n",
      "movie es un tag y {'favorite': 'False', 'title': 'Reservoir Dogs'} es un atributo\n",
      "format es un tag y {'multiple': 'No'} es un atributo\n",
      "year es un tag y {} es un atributo\n",
      "rating es un tag y {} es un atributo\n",
      "description es un tag y {} es un atributo\n",
      "genre es un tag hijo de <Element 'collection' at 0x7f570d71e040> y {'category': 'Thriller'} es un atributo\n",
      "decade es un tag y {'years': '1970s'} es un atributo\n",
      "movie es un tag y {'favorite': 'False', 'title': 'ALIEN'} es un atributo\n",
      "format es un tag y {'multiple': 'Yes'} es un atributo\n",
      "year es un tag y {} es un atributo\n",
      "rating es un tag y {} es un atributo\n",
      "description es un tag y {} es un atributo\n",
      "decade es un tag y {'years': '1980s'} es un atributo\n",
      "movie es un tag y {'favorite': 'True', 'title': \"Ferris Bueller's Day Off\"} es un atributo\n",
      "format es un tag y {'multiple': 'No'} es un atributo\n",
      "year es un tag y {} es un atributo\n",
      "rating es un tag y {} es un atributo\n",
      "description es un tag y {} es un atributo\n",
      "movie es un tag y {'favorite': 'FALSE', 'title': 'American Psycho'} es un atributo\n",
      "format es un tag y {'multiple': 'No'} es un atributo\n",
      "year es un tag y {} es un atributo\n",
      "rating es un tag y {} es un atributo\n",
      "description es un tag y {} es un atributo\n"
     ]
    }
   ],
   "source": [
    "for child in root:\n",
    "    print(f'{child.tag} es un tag hijo de {root} y {child.attrib} es un atributo')\n",
    "    for subchild in child:\n",
    "        print(f'{subchild.tag} es un tag y {subchild.attrib} es un atributo')\n",
    "        for subsubchild in subchild:\n",
    "            print(f'{subsubchild.tag} es un tag y {subsubchild.attrib} es un atributo')\n",
    "            for movie in subsubchild:\n",
    "                print(f'{movie.tag} es un tag y {movie.attrib} es un atributo') \n",
    "              \n",
    "        \n",
    "                    \n",
    "                \n",
    "                \n",
    "                "
   ]
  },
  {
   "cell_type": "code",
   "execution_count": 80,
   "metadata": {},
   "outputs": [
    {
     "name": "stdout",
     "output_type": "stream",
     "text": [
      "{'category': 'Action'}\n",
      "<Element 'decade' at 0x7f570ca6a4a0>\n",
      "<class 'xml.etree.ElementTree.Element'>\n",
      "{'years': '1980s'}\n",
      "1981\n",
      "1984\n",
      "1985\n",
      "<Element 'decade' at 0x7f570ca96770>\n",
      "<class 'xml.etree.ElementTree.Element'>\n",
      "{'years': '1990s'}\n",
      "2000\n",
      "1992\n",
      "1992\n",
      "{'category': 'Thriller'}\n",
      "<Element 'decade' at 0x7f570ca44a90>\n",
      "<class 'xml.etree.ElementTree.Element'>\n",
      "{'years': '1970s'}\n",
      "1979\n",
      "<Element 'decade' at 0x7f570ca4b180>\n",
      "<class 'xml.etree.ElementTree.Element'>\n",
      "{'years': '1980s'}\n",
      "1986\n",
      "2000\n"
     ]
    }
   ],
   "source": [
    "\n",
    "for child in root:\n",
    "    x = child.findall('decade') #esto nos devuelve una lista\n",
    "    #print(x)\n",
    "    \n",
    "    print(child.attrib) \n",
    "    for subchild in child:\n",
    "        print(subchild)\n",
    "        print(type(subchild))\n",
    "        print(subchild.attrib)\n",
    "        #print(subchild.attrib.findall('title')) esto no funciona\n",
    "        #p = subsubchild.findall('movie') #lista\n",
    "        #break    \n",
    "        for subsubchild in subchild:\n",
    "            g = subsubchild.findall('year') #lista\n",
    "            for año in g:\n",
    "                año_estreno = (str(año.text))\n",
    "                print(str(año.text))\n",
    "                break\n",
    "\n",
    "\n",
    "            \n"
   ]
  },
  {
   "cell_type": "code",
   "execution_count": null,
   "metadata": {},
   "outputs": [],
   "source": [
    "movie =root.find('genre').find('decade').find('movie')"
   ]
  },
  {
   "cell_type": "code",
   "execution_count": 23,
   "metadata": {},
   "outputs": [],
   "source": [
    "for movie in root.findall('movie'):\n",
    "        print(movie.find('year').text)"
   ]
  },
  {
   "cell_type": "code",
   "execution_count": 28,
   "metadata": {},
   "outputs": [
    {
     "name": "stdout",
     "output_type": "stream",
     "text": [
      "description\n"
     ]
    }
   ],
   "source": [
    "print(movie.tag)"
   ]
  },
  {
   "cell_type": "code",
   "execution_count": 21,
   "metadata": {},
   "outputs": [
    {
     "name": "stdout",
     "output_type": "stream",
     "text": [
      "genre {'category': 'Action'}\n",
      "genre {'category': 'Thriller'}\n"
     ]
    }
   ],
   "source": [
    "for child in root:\n",
    "    print(child.tag, child.attrib)\n"
   ]
  },
  {
   "cell_type": "code",
   "execution_count": 10,
   "metadata": {},
   "outputs": [
    {
     "name": "stdout",
     "output_type": "stream",
     "text": [
      "1981\n"
     ]
    }
   ],
   "source": [
    "\n",
    "print(root.find('genre').find('decade').find('movie').find(\"year\").text)\n"
   ]
  },
  {
   "cell_type": "code",
   "execution_count": 41,
   "metadata": {},
   "outputs": [],
   "source": [
    "año =root.find('genre').find('decade').find('movie').find(\"year\")"
   ]
  },
  {
   "cell_type": "code",
   "execution_count": 49,
   "metadata": {},
   "outputs": [
    {
     "data": {
      "text/plain": [
       "'1981'"
      ]
     },
     "execution_count": 49,
     "metadata": {},
     "output_type": "execute_result"
    }
   ],
   "source": [
    "root.find('genre').find('decade').find('movie').find(\"year\").text"
   ]
  },
  {
   "cell_type": "code",
   "execution_count": 42,
   "metadata": {},
   "outputs": [
    {
     "name": "stdout",
     "output_type": "stream",
     "text": [
      "<Element 'year' at 0x7feb5a0369a0>\n"
     ]
    }
   ],
   "source": [
    "print(año)"
   ]
  },
  {
   "cell_type": "code",
   "execution_count": 43,
   "metadata": {},
   "outputs": [
    {
     "ename": "AttributeError",
     "evalue": "'str' object has no attribute 'append'",
     "output_type": "error",
     "traceback": [
      "\u001b[0;31m---------------------------------------------------------------------------\u001b[0m",
      "\u001b[0;31mAttributeError\u001b[0m                            Traceback (most recent call last)",
      "\u001b[0;32m/tmp/ipykernel_2496/1245142281.py\u001b[0m in \u001b[0;36m<module>\u001b[0;34m\u001b[0m\n\u001b[1;32m      2\u001b[0m \u001b[0;32mfor\u001b[0m \u001b[0mi\u001b[0m \u001b[0;32min\u001b[0m \u001b[0mroot\u001b[0m\u001b[0;34m:\u001b[0m\u001b[0;34m\u001b[0m\u001b[0;34m\u001b[0m\u001b[0m\n\u001b[1;32m      3\u001b[0m     \u001b[0my\u001b[0m\u001b[0;34m=\u001b[0m\u001b[0maño\u001b[0m\u001b[0;34m.\u001b[0m\u001b[0mtext\u001b[0m\u001b[0;34m\u001b[0m\u001b[0;34m\u001b[0m\u001b[0m\n\u001b[0;32m----> 4\u001b[0;31m     \u001b[0my\u001b[0m\u001b[0;34m.\u001b[0m\u001b[0mappend\u001b[0m\u001b[0;34m(\u001b[0m\u001b[0mlista\u001b[0m\u001b[0;34m)\u001b[0m\u001b[0;34m\u001b[0m\u001b[0;34m\u001b[0m\u001b[0m\n\u001b[0m\u001b[1;32m      5\u001b[0m \u001b[0;34m\u001b[0m\u001b[0m\n",
      "\u001b[0;31mAttributeError\u001b[0m: 'str' object has no attribute 'append'"
     ]
    }
   ],
   "source": [
    "lista=[]\n",
    "for i in root:\n",
    "    y=año.text\n",
    "    y.append(lista)\n",
    "\n"
   ]
  },
  {
   "cell_type": "markdown",
   "metadata": {},
   "source": []
  },
  {
   "cell_type": "code",
   "execution_count": 54,
   "metadata": {},
   "outputs": [
    {
     "name": "stdout",
     "output_type": "stream",
     "text": [
      "1981\n",
      "1981\n"
     ]
    }
   ],
   "source": [
    "for i in root:\n",
    "    print(root.find('genre').find('decade').find('movie').find(\"year\").text)"
   ]
  },
  {
   "cell_type": "code",
   "execution_count": 47,
   "metadata": {},
   "outputs": [
    {
     "name": "stdout",
     "output_type": "stream",
     "text": [
      "[]\n"
     ]
    }
   ],
   "source": [
    "print(lista)"
   ]
  },
  {
   "cell_type": "code",
   "execution_count": 39,
   "metadata": {},
   "outputs": [
    {
     "ename": "AttributeError",
     "evalue": "'NoneType' object has no attribute 'text'",
     "output_type": "error",
     "traceback": [
      "\u001b[0;31m---------------------------------------------------------------------------\u001b[0m",
      "\u001b[0;31mAttributeError\u001b[0m                            Traceback (most recent call last)",
      "\u001b[0;32m/tmp/ipykernel_2496/1776765613.py\u001b[0m in \u001b[0;36m<module>\u001b[0;34m\u001b[0m\n\u001b[0;32m----> 1\u001b[0;31m \u001b[0mprint\u001b[0m\u001b[0;34m(\u001b[0m\u001b[0mroot\u001b[0m\u001b[0;34m.\u001b[0m\u001b[0mfind\u001b[0m\u001b[0;34m(\u001b[0m\u001b[0;34m'year'\u001b[0m\u001b[0;34m)\u001b[0m\u001b[0;34m.\u001b[0m\u001b[0mtext\u001b[0m\u001b[0;34m)\u001b[0m\u001b[0;34m\u001b[0m\u001b[0;34m\u001b[0m\u001b[0m\n\u001b[0m",
      "\u001b[0;31mAttributeError\u001b[0m: 'NoneType' object has no attribute 'text'"
     ]
    }
   ],
   "source": [
    "print(root.find('year').text)"
   ]
  }
 ],
 "metadata": {
  "kernelspec": {
   "display_name": "Python 3.9.12 ('base')",
   "language": "python",
   "name": "python3"
  },
  "language_info": {
   "codemirror_mode": {
    "name": "ipython",
    "version": 3
   },
   "file_extension": ".py",
   "mimetype": "text/x-python",
   "name": "python",
   "nbconvert_exporter": "python",
   "pygments_lexer": "ipython3",
   "version": "3.9.12"
  },
  "orig_nbformat": 4,
  "vscode": {
   "interpreter": {
    "hash": "9429f26ec4099974d746a4ebde46a1e9e674ac91dbe378d9f92f91a367d774ad"
   }
  }
 },
 "nbformat": 4,
 "nbformat_minor": 2
}
