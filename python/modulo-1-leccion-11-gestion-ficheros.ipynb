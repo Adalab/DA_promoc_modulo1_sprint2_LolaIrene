{
 "cells": [
  {
   "cell_type": "markdown",
   "metadata": {},
   "source": [
    "Esta función debe incluir el código que:\n",
    "\n",
    "1.Nos muestre en que carpeta estamos trabajando.\n",
    "\n",
    "2.Cree una carpeta que se llame \"aprendiendo-ficheros\". ⚠️ Tened en cuenta que si la carpeta ya existe no la podemos crear, nos devolverá un error. Incluye en la función un programa que evite que nos de un error si la carpeta ya existe.\n",
    "\n",
    "3.Cree otra carpeta que se llame \"datos\" dentro de la carpeta \"aprendiendo-ficheros\". En esta carpeta \"datos\" guardaremos el fichero \"saludo.txt\" que os habéis descargado.\n",
    "\n",
    "4.Cambiad el directorio de trabajo a la carpeta \"datos\". Antes de seguir chequead que estáis trabajando en la carpeta \"datos\".\n",
    "\n",
    "5.Cambiad el nombre de la carpeta creada en el punto 2 a \"primera-toma-contacto\"\n"
   ]
  },
  {
   "cell_type": "code",
   "execution_count": 1,
   "metadata": {},
   "outputs": [],
   "source": [
    "import os"
   ]
  },
  {
   "cell_type": "code",
   "execution_count": null,
   "metadata": {},
   "outputs": [],
   "source": []
  },
  {
   "cell_type": "code",
   "execution_count": 7,
   "metadata": {},
   "outputs": [],
   "source": [
    "#os.mkdir( \"aprendiendo-ficheros\")"
   ]
  },
  {
   "cell_type": "code",
   "execution_count": 3,
   "metadata": {},
   "outputs": [
    {
     "name": "stdout",
     "output_type": "stream",
     "text": [
      "/mnt/c/Users/Lola/Desktop/Adalab/pair programming/DA-promoC-modulo1-spring2-IreneLola/DA_promoc_modulo1_sprint2_LolaIrene/python/aprendiendo_ficheros\n"
     ]
    }
   ],
   "source": [
    "#1\n",
    "print(os.getcwd()+'/aprendiendo_ficheros')"
   ]
  },
  {
   "cell_type": "code",
   "execution_count": 8,
   "metadata": {},
   "outputs": [],
   "source": [
    "#os.mkdir('aprendiendo-ficheros/datos')\n",
    "pass\n",
    "import shutil\n",
    "shutil.move('saludo.txt','aprendiendo-ficheros/datos')\n",
    "import shutil\n",
    "import os\n",
    " "
   ]
  },
  {
   "cell_type": "code",
   "execution_count": 9,
   "metadata": {},
   "outputs": [
    {
     "data": {
      "text/plain": [
       "['aprendiendo-ficheros',\n",
       " 'modulo-1-leccion-08-funciones.ipynb',\n",
       " 'modulo-1-leccion-09-funciones2.ipynb',\n",
       " 'modulo-1-leccion-10-clases.ipynb',\n",
       " 'modulo-1-leccion-11-gestion-ficheros.ipynb']"
      ]
     },
     "execution_count": 9,
     "metadata": {},
     "output_type": "execute_result"
    }
   ],
   "source": [
    "os.listdir()"
   ]
  },
  {
   "cell_type": "code",
   "execution_count": 10,
   "metadata": {},
   "outputs": [
    {
     "data": {
      "text/plain": [
       "['datos']"
      ]
     },
     "execution_count": 10,
     "metadata": {},
     "output_type": "execute_result"
    }
   ],
   "source": [
    "#2\n",
    "os.listdir('aprendiendo-ficheros')"
   ]
  },
  {
   "cell_type": "code",
   "execution_count": 13,
   "metadata": {},
   "outputs": [],
   "source": [
    "os.chdir('aprendiendo-ficheros')"
   ]
  },
  {
   "cell_type": "code",
   "execution_count": 15,
   "metadata": {},
   "outputs": [],
   "source": [
    "#3 \n",
    "os.chdir('datos')"
   ]
  },
  {
   "cell_type": "code",
   "execution_count": 4,
   "metadata": {},
   "outputs": [
    {
     "data": {
      "text/plain": [
       "'/mnt/c/Users/Lola/Desktop/Adalab/pair programming/DA-promoC-modulo1-spring2-IreneLola/DA_promoc_modulo1_sprint2_LolaIrene/python'"
      ]
     },
     "execution_count": 4,
     "metadata": {},
     "output_type": "execute_result"
    }
   ],
   "source": [
    "os.getcwd()"
   ]
  },
  {
   "cell_type": "code",
   "execution_count": 26,
   "metadata": {},
   "outputs": [],
   "source": [
    "#4 \n",
    "os.chdir('../')"
   ]
  },
  {
   "cell_type": "markdown",
   "metadata": {},
   "source": [
    "5 No hace el rename "
   ]
  },
  {
   "cell_type": "code",
   "execution_count": 28,
   "metadata": {},
   "outputs": [
    {
     "ename": "PermissionError",
     "evalue": "[Errno 13] Permission denied: 'aprendiendo-ficheros' -> 'primera-toma-contacto'",
     "output_type": "error",
     "traceback": [
      "\u001b[0;31m---------------------------------------------------------------------------\u001b[0m",
      "\u001b[0;31mPermissionError\u001b[0m                           Traceback (most recent call last)",
      "\u001b[0;32m/tmp/ipykernel_334/3578571592.py\u001b[0m in \u001b[0;36m<module>\u001b[0;34m\u001b[0m\n\u001b[0;32m----> 1\u001b[0;31m \u001b[0mos\u001b[0m\u001b[0;34m.\u001b[0m\u001b[0mrename\u001b[0m\u001b[0;34m(\u001b[0m\u001b[0;34m\"aprendiendo-ficheros\"\u001b[0m\u001b[0;34m,\u001b[0m\u001b[0;34m\"primera-toma-contacto\"\u001b[0m\u001b[0;34m)\u001b[0m\u001b[0;34m\u001b[0m\u001b[0;34m\u001b[0m\u001b[0m\n\u001b[0m",
      "\u001b[0;31mPermissionError\u001b[0m: [Errno 13] Permission denied: 'aprendiendo-ficheros' -> 'primera-toma-contacto'"
     ]
    }
   ],
   "source": [
    "os.rename(\"aprendiendo-ficheros\",\"primera-toma-contacto\")"
   ]
  },
  {
   "cell_type": "code",
   "execution_count": null,
   "metadata": {},
   "outputs": [],
   "source": [
    "ruta_aprendiendo_ficheros =('/mnt/c/Users/Lola/Desktop/Adalab/pair programming/DA-promoC-modulo1-spring2-IreneLola/DA_promoc_modulo1_sprint2_LolaIrene/python/aprendiendo-ficheros')\n",
    "ruta_primera_toma_contacto =('/mnt/c/Users/Lola/Desktop/Adalab/pair programming/DA-promoC-modulo1-spring2-IreneLola/DA_promoc_modulo1_sprint2_LolaIrene/python/primera-toma-contacto')"
   ]
  },
  {
   "cell_type": "code",
   "execution_count": 29,
   "metadata": {},
   "outputs": [
    {
     "ename": "NameError",
     "evalue": "name 'ruta_aprendiendo_ficheros' is not defined",
     "output_type": "error",
     "traceback": [
      "\u001b[0;31m---------------------------------------------------------------------------\u001b[0m",
      "\u001b[0;31mNameError\u001b[0m                                 Traceback (most recent call last)",
      "\u001b[0;32m/tmp/ipykernel_334/3599368558.py\u001b[0m in \u001b[0;36m<module>\u001b[0;34m\u001b[0m\n\u001b[0;32m----> 1\u001b[0;31m \u001b[0mos\u001b[0m\u001b[0;34m.\u001b[0m\u001b[0mrename\u001b[0m\u001b[0;34m(\u001b[0m\u001b[0mruta_aprendiendo_ficheros\u001b[0m\u001b[0;34m,\u001b[0m\u001b[0mruta_primera_toma_contacto\u001b[0m\u001b[0;34m)\u001b[0m\u001b[0;34m\u001b[0m\u001b[0;34m\u001b[0m\u001b[0m\n\u001b[0m",
      "\u001b[0;31mNameError\u001b[0m: name 'ruta_aprendiendo_ficheros' is not defined"
     ]
    }
   ],
   "source": [
    "os.rename(ruta_aprendiendo_ficheros,ruta_primera_toma_contacto)"
   ]
  },
  {
   "cell_type": "code",
   "execution_count": 29,
   "metadata": {},
   "outputs": [
    {
     "ename": "FileNotFoundError",
     "evalue": "[Errno 2] No such file or directory",
     "output_type": "error",
     "traceback": [
      "\u001b[0;31m---------------------------------------------------------------------------\u001b[0m",
      "\u001b[0;31mFileNotFoundError\u001b[0m                         Traceback (most recent call last)",
      "\u001b[0;32m/tmp/ipykernel_571/1282873857.py\u001b[0m in \u001b[0;36m<module>\u001b[0;34m\u001b[0m\n\u001b[0;32m----> 1\u001b[0;31m \u001b[0mos\u001b[0m\u001b[0;34m.\u001b[0m\u001b[0mgetcwd\u001b[0m\u001b[0;34m(\u001b[0m\u001b[0;34m)\u001b[0m\u001b[0;34m\u001b[0m\u001b[0;34m\u001b[0m\u001b[0m\n\u001b[0m",
      "\u001b[0;31mFileNotFoundError\u001b[0m: [Errno 2] No such file or directory"
     ]
    }
   ],
   "source": [
    "os.getcwd()"
   ]
  },
  {
   "cell_type": "markdown",
   "metadata": {},
   "source": [
    "Esta función debe incluir el código que:"
   ]
  },
  {
   "cell_type": "code",
   "execution_count": 8,
   "metadata": {},
   "outputs": [],
   "source": [
    "def cambiar_carpeta(aprendiendo_ficheros,datos,primera_toma_contacto):\n",
    "    ruta1= os.getcwd()\n",
    "    print(os.listdir())\n",
    "    if aprendiendo_ficheros  in os.listdir():\n",
    "        print('El fichero ya existe')\n",
    "        ruta_nueva= (f'/{aprendiendo_ficheros}')\n",
    "        os.chdir(ruta_nueva)\n",
    "        os.mkdir(datos)\n",
    "        os.chdir(ruta1)\n",
    "        os.rename(aprendiendo_ficheros,primera_toma_contacto)\n",
    "        \n",
    "    else : \n",
    "        os.mkdir(aprendiendo_ficheros)\n",
    "        print(f'La carpeta {aprendiendo_ficheros} se ha creado')\n",
    "        os.chdir(ruta_nueva)\n",
    "        os.mkdir(datos)\n",
    "        os.chdir(ruta1)\n",
    "        os.rename(aprendiendo_ficheros,primera_toma_contacto)\n",
    "    return "
   ]
  },
  {
   "cell_type": "code",
   "execution_count": 9,
   "metadata": {},
   "outputs": [
    {
     "name": "stdout",
     "output_type": "stream",
     "text": [
      "['aprendiendo_ficheros', 'modulo-1-leccion-08-funciones.ipynb', 'modulo-1-leccion-09-funciones2.ipynb', 'modulo-1-leccion-10-clases.ipynb', 'modulo-1-leccion-11-gestion-ficheros.ipynb']\n",
      "El fichero ya existe\n"
     ]
    },
    {
     "ename": "FileNotFoundError",
     "evalue": "[Errno 2] No such file or directory: '/aprendiendo_ficheros'",
     "output_type": "error",
     "traceback": [
      "\u001b[0;31m---------------------------------------------------------------------------\u001b[0m",
      "\u001b[0;31mFileNotFoundError\u001b[0m                         Traceback (most recent call last)",
      "\u001b[0;32m/tmp/ipykernel_885/2848061631.py\u001b[0m in \u001b[0;36m<module>\u001b[0;34m\u001b[0m\n\u001b[0;32m----> 1\u001b[0;31m \u001b[0mcambiar_carpeta\u001b[0m\u001b[0;34m(\u001b[0m\u001b[0;34m'aprendiendo_ficheros'\u001b[0m\u001b[0;34m,\u001b[0m\u001b[0;34m'datos'\u001b[0m\u001b[0;34m,\u001b[0m\u001b[0;34m'primera-toma-contacto'\u001b[0m\u001b[0;34m)\u001b[0m\u001b[0;34m\u001b[0m\u001b[0;34m\u001b[0m\u001b[0m\n\u001b[0m",
      "\u001b[0;32m/tmp/ipykernel_885/4156523098.py\u001b[0m in \u001b[0;36mcambiar_carpeta\u001b[0;34m(aprendiendo_ficheros, datos, primera_toma_contacto)\u001b[0m\n\u001b[1;32m      5\u001b[0m         \u001b[0mprint\u001b[0m\u001b[0;34m(\u001b[0m\u001b[0;34m'El fichero ya existe'\u001b[0m\u001b[0;34m)\u001b[0m\u001b[0;34m\u001b[0m\u001b[0;34m\u001b[0m\u001b[0m\n\u001b[1;32m      6\u001b[0m         \u001b[0mruta_nueva\u001b[0m\u001b[0;34m=\u001b[0m \u001b[0;34m(\u001b[0m\u001b[0;34mf'/{aprendiendo_ficheros}'\u001b[0m\u001b[0;34m)\u001b[0m\u001b[0;34m\u001b[0m\u001b[0;34m\u001b[0m\u001b[0m\n\u001b[0;32m----> 7\u001b[0;31m         \u001b[0mos\u001b[0m\u001b[0;34m.\u001b[0m\u001b[0mchdir\u001b[0m\u001b[0;34m(\u001b[0m\u001b[0mruta_nueva\u001b[0m\u001b[0;34m)\u001b[0m\u001b[0;34m\u001b[0m\u001b[0;34m\u001b[0m\u001b[0m\n\u001b[0m\u001b[1;32m      8\u001b[0m         \u001b[0mos\u001b[0m\u001b[0;34m.\u001b[0m\u001b[0mmkdir\u001b[0m\u001b[0;34m(\u001b[0m\u001b[0mdatos\u001b[0m\u001b[0;34m)\u001b[0m\u001b[0;34m\u001b[0m\u001b[0;34m\u001b[0m\u001b[0m\n\u001b[1;32m      9\u001b[0m         \u001b[0mos\u001b[0m\u001b[0;34m.\u001b[0m\u001b[0mchdir\u001b[0m\u001b[0;34m(\u001b[0m\u001b[0mruta1\u001b[0m\u001b[0;34m)\u001b[0m\u001b[0;34m\u001b[0m\u001b[0;34m\u001b[0m\u001b[0m\n",
      "\u001b[0;31mFileNotFoundError\u001b[0m: [Errno 2] No such file or directory: '/aprendiendo_ficheros'"
     ]
    }
   ],
   "source": [
    "cambiar_carpeta('aprendiendo_ficheros','datos','primera-toma-contacto')"
   ]
  },
  {
   "cell_type": "code",
   "execution_count": 10,
   "metadata": {},
   "outputs": [
    {
     "name": "stdout",
     "output_type": "stream",
     "text": [
      "<built-in function listdir>\n"
     ]
    }
   ],
   "source": [
    "print(os.listdir)"
   ]
  },
  {
   "cell_type": "markdown",
   "metadata": {},
   "source": [
    "Segunda función"
   ]
  },
  {
   "cell_type": "code",
   "execution_count": 39,
   "metadata": {},
   "outputs": [
    {
     "name": "stdout",
     "output_type": "stream",
     "text": [
      "['Hola Adalabers!!!\\n', '\\n', 'Estamos en la sesión de pair-programming para familiarizarnos con la gestión de carpetas y ficheros desde Python 🙂🌊\\n', '\\n', 'Esto esta siendo suuuper divertidooooo']\n"
     ]
    }
   ],
   "source": [
    "#1\n",
    "f = open('/mnt/c/Users/Lola/Desktop/Adalab/pair programming/DA-promoC-modulo1-spring2-IreneLola/DA_promoc_modulo1_sprint2_LolaIrene/python/aprendiendo-ficheros/datos/saludo.txt')\n",
    "linea = f.readlines()\n",
    "print(linea)"
   ]
  },
  {
   "cell_type": "code",
   "execution_count": 42,
   "metadata": {},
   "outputs": [
    {
     "name": "stdout",
     "output_type": "stream",
     "text": [
      "Esto esta siendo suuuper divertidooooo\n"
     ]
    }
   ],
   "source": [
    "#2 \n",
    "print(linea[4])"
   ]
  },
  {
   "cell_type": "code",
   "execution_count": 44,
   "metadata": {},
   "outputs": [
    {
     "data": {
      "text/plain": [
       "'/mnt/c/Users/Lola/Desktop/Adalab/pair programming/DA-promoC-modulo1-spring2-IreneLola/DA_promoc_modulo1_sprint2_LolaIrene/python'"
      ]
     },
     "execution_count": 44,
     "metadata": {},
     "output_type": "execute_result"
    }
   ],
   "source": [
    "#1 segunda función\n",
    "os.getcwd()"
   ]
  },
  {
   "cell_type": "code",
   "execution_count": 53,
   "metadata": {},
   "outputs": [],
   "source": [
    "#2 \n",
    "ruta = input('Donde está el archivo?') \n",
    "ruta_datos ='aprendiendo-ficheros/datos'"
   ]
  },
  {
   "cell_type": "code",
   "execution_count": 46,
   "metadata": {},
   "outputs": [
    {
     "data": {
      "text/plain": [
       "['aprendiendo-ficheros',\n",
       " 'modulo-1-leccion-08-funciones.ipynb',\n",
       " 'modulo-1-leccion-09-funciones2.ipynb',\n",
       " 'modulo-1-leccion-10-clases.ipynb',\n",
       " 'modulo-1-leccion-11-gestion-ficheros.ipynb']"
      ]
     },
     "execution_count": 46,
     "metadata": {},
     "output_type": "execute_result"
    }
   ],
   "source": [
    "os.listdir()"
   ]
  },
  {
   "cell_type": "code",
   "execution_count": 51,
   "metadata": {},
   "outputs": [
    {
     "data": {
      "text/plain": [
       "'/mnt/c/Users/Lola/Desktop/Adalab/pair programming/DA-promoC-modulo1-spring2-IreneLola/DA_promoc_modulo1_sprint2_LolaIrene/python'"
      ]
     },
     "execution_count": 51,
     "metadata": {},
     "output_type": "execute_result"
    }
   ],
   "source": [
    "os.getcwd()"
   ]
  },
  {
   "cell_type": "code",
   "execution_count": 56,
   "metadata": {},
   "outputs": [
    {
     "ename": "FileNotFoundError",
     "evalue": "[Errno 2] No such file or directory: 'aprendiendo-ficheros/datos'",
     "output_type": "error",
     "traceback": [
      "\u001b[0;31m---------------------------------------------------------------------------\u001b[0m",
      "\u001b[0;31mFileNotFoundError\u001b[0m                         Traceback (most recent call last)",
      "\u001b[0;32m/tmp/ipykernel_334/4201855567.py\u001b[0m in \u001b[0;36m<module>\u001b[0;34m\u001b[0m\n\u001b[1;32m      1\u001b[0m \u001b[0minput\u001b[0m\u001b[0;34m(\u001b[0m\u001b[0;34m'Donde está el archivo?'\u001b[0m\u001b[0;34m)\u001b[0m\u001b[0;34m\u001b[0m\u001b[0;34m\u001b[0m\u001b[0m\n\u001b[1;32m      2\u001b[0m \u001b[0;32mif\u001b[0m \u001b[0mos\u001b[0m\u001b[0;34m.\u001b[0m\u001b[0mgetcwd\u001b[0m\u001b[0;34m(\u001b[0m\u001b[0;34m)\u001b[0m \u001b[0;32mnot\u001b[0m \u001b[0;32min\u001b[0m \u001b[0mruta_datos\u001b[0m\u001b[0;34m:\u001b[0m\u001b[0;34m\u001b[0m\u001b[0;34m\u001b[0m\u001b[0m\n\u001b[0;32m----> 3\u001b[0;31m     \u001b[0mos\u001b[0m\u001b[0;34m.\u001b[0m\u001b[0mchdir\u001b[0m\u001b[0;34m(\u001b[0m\u001b[0mruta_datos\u001b[0m\u001b[0;34m)\u001b[0m\u001b[0;34m\u001b[0m\u001b[0;34m\u001b[0m\u001b[0m\n\u001b[0m\u001b[1;32m      4\u001b[0m     \u001b[0mos\u001b[0m\u001b[0;34m.\u001b[0m\u001b[0mlistdir\u001b[0m\u001b[0;34m(\u001b[0m\u001b[0;34m)\u001b[0m\u001b[0;34m\u001b[0m\u001b[0;34m\u001b[0m\u001b[0m\n\u001b[1;32m      5\u001b[0m \u001b[0;32melse\u001b[0m\u001b[0;34m:\u001b[0m \u001b[0mf\u001b[0m \u001b[0;34m=\u001b[0m \u001b[0mopen\u001b[0m\u001b[0;34m(\u001b[0m\u001b[0;34m'/mnt/c/Users/Lola/Desktop/Adalab/pair programming/DA-promoC-modulo1-spring2-IreneLola/DA_promoc_modulo1_sprint2_LolaIrene/python/aprendiendo-ficheros/datos/saludo.txt'\u001b[0m\u001b[0;34m)\u001b[0m\u001b[0;34m\u001b[0m\u001b[0;34m\u001b[0m\u001b[0m\n",
      "\u001b[0;31mFileNotFoundError\u001b[0m: [Errno 2] No such file or directory: 'aprendiendo-ficheros/datos'"
     ]
    }
   ],
   "source": [
    "input('Donde está el archivo?')\n",
    "if os.getcwd() not in ruta_datos:\n",
    "    os.chdir(ruta_datos)\n",
    "    os.listdir()\n",
    "else: f = open('/mnt/c/Users/Lola/Desktop/Adalab/pair programming/DA-promoC-modulo1-spring2-IreneLola/DA_promoc_modulo1_sprint2_LolaIrene/python/aprendiendo-ficheros/datos/saludo.txt')\n",
    "linea = f.readlines()\n",
    "print(linea[4])    "
   ]
  },
  {
   "cell_type": "code",
   "execution_count": null,
   "metadata": {},
   "outputs": [],
   "source": [
    "# por si hace falta \n",
    "file_source = 'aprendiendo-ficheros/datos/saludo'\n",
    "file_destination = 'Path/Of/Directory'\n",
    " \n",
    "get_files = os.listdir(file_source)\n",
    " \n",
    "for g in get_files:\n",
    "    shutil.move(file_source + g, file_destination)\n"
   ]
  }
 ],
 "metadata": {
  "kernelspec": {
   "display_name": "Python 3.9.7 ('base')",
   "language": "python",
   "name": "python3"
  },
  "language_info": {
   "codemirror_mode": {
    "name": "ipython",
    "version": 3
   },
   "file_extension": ".py",
   "mimetype": "text/x-python",
   "name": "python",
   "nbconvert_exporter": "python",
   "pygments_lexer": "ipython3",
   "version": "3.9.7"
  },
  "orig_nbformat": 4,
  "vscode": {
   "interpreter": {
    "hash": "4b1ecc98482ac3f78e7638a36d488665c227c7cb0420745d3c03f1c165a0d66a"
   }
  }
 },
 "nbformat": 4,
 "nbformat_minor": 2
}
