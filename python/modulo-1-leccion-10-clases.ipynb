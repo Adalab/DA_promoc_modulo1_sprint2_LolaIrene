{
 "cells": [
  {
   "cell_type": "code",
   "execution_count": 16,
   "metadata": {},
   "outputs": [],
   "source": [
    "class Empleados:\n",
    "    def __init__(self,nombre,apellido,edad,posicion,año,vacaciones,herramientas):\n",
    "        self.nombre = nombre\n",
    "        self.apellido = apellido\n",
    "        self.edad = edad \n",
    "        self. posicion = posicion\n",
    "        self.año = año \n",
    "        self.vacaciones = int(vacaciones)\n",
    "        self.herramientas = list(herramientas)\n",
    "\n",
    "    def descripcion(self):\n",
    "        return f\"Es {self.nombre}, {self.posicion}, quien lleva con nostros en la empresa desde {self.año}. Además este año le quedan {self.vacaciones}dias de vacaciones\"\n",
    "    def dias_vacaciones(self):\n",
    "        dias = int(input(\"Cuantos dias te quieres ir de vacaciones?\"))\n",
    "        if self.vacaciones-dias == 0:\n",
    "            return print(\"Se te acabaron las vacaciones\")\n",
    "        elif dias > self.vacaciones:\n",
    "            return print(\"No te puedes ir tantos dias\")\n",
    "        else :\n",
    "            return  self.vacaciones-dias\n",
    "    def cambiando_posicion(self):\n",
    "        if 'Python' in self.herramientas:\n",
    "            return print('Bien hecho!')\n",
    "        elif 'Excel'in self.herramientas:\n",
    "            return print('Recomendamos dejar excel y usar Excel')\n"
   ]
  },
  {
   "cell_type": "code",
   "execution_count": 19,
   "metadata": {},
   "outputs": [],
   "source": [
    "juan = Empleados('juan','perez','33','Data Analist','2004',30,['Excel','Outlook'])"
   ]
  },
  {
   "cell_type": "code",
   "execution_count": 20,
   "metadata": {},
   "outputs": [
    {
     "data": {
      "text/plain": [
       "10"
      ]
     },
     "execution_count": 20,
     "metadata": {},
     "output_type": "execute_result"
    }
   ],
   "source": [
    "juan.dias_vacaciones()"
   ]
  },
  {
   "cell_type": "code",
   "execution_count": 21,
   "metadata": {},
   "outputs": [
    {
     "name": "stdout",
     "output_type": "stream",
     "text": [
      "Recomendamos dejar excel y usar Excel\n"
     ]
    }
   ],
   "source": [
    "juan.cambiando_posicion()"
   ]
  }
 ],
 "metadata": {
  "kernelspec": {
   "display_name": "Python 3.9.7 ('base')",
   "language": "python",
   "name": "python3"
  },
  "language_info": {
   "codemirror_mode": {
    "name": "ipython",
    "version": 3
   },
   "file_extension": ".py",
   "mimetype": "text/x-python",
   "name": "python",
   "nbconvert_exporter": "python",
   "pygments_lexer": "ipython3",
   "version": "3.9.7"
  },
  "orig_nbformat": 4,
  "vscode": {
   "interpreter": {
    "hash": "4b1ecc98482ac3f78e7638a36d488665c227c7cb0420745d3c03f1c165a0d66a"
   }
  }
 },
 "nbformat": 4,
 "nbformat_minor": 2
}
