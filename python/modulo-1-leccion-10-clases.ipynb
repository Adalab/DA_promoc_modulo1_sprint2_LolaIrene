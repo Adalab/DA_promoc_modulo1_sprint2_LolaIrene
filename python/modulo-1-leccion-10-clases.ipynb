{
 "cells": [
  {
   "cell_type": "markdown",
   "metadata": {},
   "source": [
    "Definid una clase que se llame Empleados\n",
    "Definid los siguientes atributos que caracterizan a nuestros empleados:\n",
    "nombre\n",
    "apellido\n",
    "edad\n",
    "posición que ocupa en la empresa\n",
    "año en que entró en la empresa\n",
    "número de días de vacaciones que tiene\n",
    "Las herramientas que usa cada uno de ellos, por ejemplo, Outlook, excel y word. Deberá ser una lista.\n",
    "Cread una instancia para la clase creada\n",
    "Definid los siguientes métodos:\n",
    "descripción\n",
    "calculo_vacaciones\n",
    "cambiando_posicion"
   ]
  },
  {
   "cell_type": "markdown",
   "metadata": {},
   "source": [
    "Método descripcion:\n",
    "El return deberá ser un string en el que aparezca el nombre, apellidos, los años que lleva en la empresa y los días de vacaciones que le quedan."
   ]
  },
  {
   "cell_type": "markdown",
   "metadata": {},
   "source": [
    "Método calculo_vacaciones:\n",
    "Deberá contener input que nos pregunte cuántos días te quieres ir de vacaciones.\n",
    "Luego deberemos restar el número de días que se fue de vacaciones a el número total de vacaciones que tiene ese empleado.\n",
    "Una condición que chequee si:\n",
    "Si el numero de vacaciones que tiene el empleado es igual a 0, devolved un mensaje que diga que se le acabaron las vacaciones\n",
    "Si el número de días que se quiere ir de vacaciones es mayor que el número de vacaciones que le quedan, devolved un mensaje que diga que no se puede ir tantos de vacaciones\n",
    "En caso de que no se cumplan ninguna de estas condiciones, que nos devuelva el número de vacaciones que le quedan al empleado.\n",
    "Método cambiando_posicion:\n",
    "Iteraremos por la lista de herramientas que usa el empleado:\n",
    "Si el empleado usa \"Python\" devolveremos un mensaje de bien hecho!\n",
    "Si el empleado usa \"Excel\" le recomendaremos amigablemente que deje excel y empiece a usar Excel"
   ]
  },
  {
   "cell_type": "code",
   "execution_count": 16,
   "metadata": {},
   "outputs": [],
   "source": [
    "class Empleados:\n",
    "    def __init__(self,nombre,apellido,edad,posicion,año,vacaciones,herramientas):\n",
    "        self.nombre = nombre\n",
    "        self.apellido = apellido\n",
    "        self.edad = edad \n",
    "        self. posicion = posicion\n",
    "        self.año = año \n",
    "        self.vacaciones = int(vacaciones)\n",
    "        self.herramientas = list(herramientas)\n",
    "\n",
    "    def descripcion(self):\n",
    "        return f\"Es {self.nombre}, {self.posicion}, quien lleva con nostros en la empresa desde {self.año}. Además este año le quedan {self.vacaciones}dias de vacaciones\"\n",
    "    def dias_vacaciones(self):\n",
    "        dias = int(input(\"Cuantos dias te quieres ir de vacaciones?\"))\n",
    "        if self.vacaciones-dias == 0:\n",
    "            return print(\"Se te acabaron las vacaciones\")\n",
    "        elif dias > self.vacaciones:\n",
    "            return print(\"No te puedes ir tantos dias\")\n",
    "        else :\n",
    "            return  self.vacaciones-dias\n",
    "    def cambiando_posicion(self):\n",
    "        if 'Python' in self.herramientas:\n",
    "            return print('Bien hecho!')\n",
    "        elif 'Excel'in self.herramientas:\n",
    "            return print('Recomendamos dejar excel y usar Excel')\n"
   ]
  },
  {
   "cell_type": "code",
   "execution_count": 19,
   "metadata": {},
   "outputs": [],
   "source": [
    "juan = Empleados('juan','perez','33','Data Analist','2004',30,['Excel','Outlook'])"
   ]
  },
  {
   "cell_type": "code",
   "execution_count": 20,
   "metadata": {},
   "outputs": [
    {
     "data": {
      "text/plain": [
       "10"
      ]
     },
     "execution_count": 20,
     "metadata": {},
     "output_type": "execute_result"
    }
   ],
   "source": [
    "juan.dias_vacaciones()"
   ]
  },
  {
   "cell_type": "code",
   "execution_count": 21,
   "metadata": {},
   "outputs": [
    {
     "name": "stdout",
     "output_type": "stream",
     "text": [
      "Recomendamos dejar excel y usar Excel\n"
     ]
    }
   ],
   "source": [
    "juan.cambiando_posicion()"
   ]
  }
 ],
 "metadata": {
  "kernelspec": {
   "display_name": "Python 3.9.7 ('base')",
   "language": "python",
   "name": "python3"
  },
  "language_info": {
   "codemirror_mode": {
    "name": "ipython",
    "version": 3
   },
   "file_extension": ".py",
   "mimetype": "text/x-python",
   "name": "python",
   "nbconvert_exporter": "python",
   "pygments_lexer": "ipython3",
   "version": "3.9.7"
  },
  "orig_nbformat": 4,
  "vscode": {
   "interpreter": {
    "hash": "4b1ecc98482ac3f78e7638a36d488665c227c7cb0420745d3c03f1c165a0d66a"
   }
  }
 },
 "nbformat": 4,
 "nbformat_minor": 2
}
